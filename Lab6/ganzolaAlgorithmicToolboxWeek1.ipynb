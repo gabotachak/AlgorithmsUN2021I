{
 "cells": [
  {
   "cell_type": "markdown",
   "metadata": {
    "id": "N1ok_-56OjB1"
   },
   "source": [
    "# I Solving the Sum of Two Digits Programming Challenge"
   ]
  },
  {
   "cell_type": "markdown",
   "metadata": {
    "id": "MMY7kmDSO0KM"
   },
   "source": [
    "## C++"
   ]
  },
  {
   "cell_type": "code",
   "execution_count": 1,
   "metadata": {
    "colab": {
     "base_uri": "https://localhost:8080/"
    },
    "id": "2pGGf9BkPNIk",
    "outputId": "28e20713-8e4f-47cc-d3b2-8c4b7e8c1d19"
   },
   "outputs": [
    {
     "output_type": "stream",
     "name": "stdout",
     "text": [
      "Writing APlusB.cpp\n"
     ]
    }
   ],
   "source": [
    "%%writefile APlusB.cpp\n",
    "#include <iostream>\n",
    "\n",
    "int sum_of_two_digits(int first_digit, int second_digit) {\n",
    "    return first_digit + second_digit;\n",
    "}\n",
    "\n",
    "int main() {\n",
    "    int a = 0;\n",
    "    int b = 0;\n",
    "    std::cin >> a;\n",
    "    std::cin >> b;\n",
    "    std::cout << sum_of_two_digits(a, b);\n",
    "    return 0;\n",
    "}"
   ]
  },
  {
   "cell_type": "code",
   "execution_count": 2,
   "metadata": {
    "colab": {
     "base_uri": "https://localhost:8080/"
    },
    "id": "0G3ZKOYAPXSU",
    "outputId": "95574e77-2ff7-4191-a74d-6715b7a92ed0"
   },
   "outputs": [
    {
     "output_type": "stream",
     "name": "stdout",
     "text": [
      "/bin/bash: input1.txt: No such file or directory\n"
     ]
    }
   ],
   "source": [
    "!g++ APlusB.cpp -o APlusB\n",
    "!./APlusB < input1.txt"
   ]
  },
  {
   "cell_type": "markdown",
   "metadata": {
    "id": "iNkG2HqfTl9c"
   },
   "source": [
    "### Test input output files"
   ]
  },
  {
   "cell_type": "code",
   "execution_count": 3,
   "metadata": {
    "colab": {
     "base_uri": "https://localhost:8080/"
    },
    "id": "aTzU2efzMxly",
    "outputId": "aa254a61-1152-42b5-a11e-a3981f96d972"
   },
   "outputs": [
    {
     "output_type": "stream",
     "name": "stdout",
     "text": [
      "Writing input1.txt\n"
     ]
    }
   ],
   "source": [
    "%%writefile input1.txt\n",
    "4 8"
   ]
  },
  {
   "cell_type": "markdown",
   "metadata": {
    "id": "pdkfsvs-T0Wr"
   },
   "source": []
  },
  {
   "cell_type": "code",
   "execution_count": 4,
   "metadata": {
    "colab": {
     "base_uri": "https://localhost:8080/"
    },
    "id": "zBJ0Gc0NQRet",
    "outputId": "67219fb3-7e55-40af-8ee4-deada7384695"
   },
   "outputs": [
    {
     "output_type": "stream",
     "name": "stdout",
     "text": [
      "Writing output1.txt\n"
     ]
    }
   ],
   "source": [
    "%%writefile output1.txt\n",
    "12"
   ]
  },
  {
   "cell_type": "code",
   "execution_count": 5,
   "metadata": {
    "colab": {
     "base_uri": "https://localhost:8080/"
    },
    "id": "IjEcIx63PJAN",
    "outputId": "3240ee72-df71-4592-8cb0-57fc8d1a7453"
   },
   "outputs": [
    {
     "output_type": "stream",
     "name": "stdout",
     "text": [
      "Writing input2.txt\n"
     ]
    }
   ],
   "source": [
    "%%writefile input2.txt\n",
    "-5 9"
   ]
  },
  {
   "cell_type": "code",
   "execution_count": 6,
   "metadata": {
    "colab": {
     "base_uri": "https://localhost:8080/"
    },
    "id": "Up9gOrxURTmd",
    "outputId": "856b79e0-46b1-4c93-d4fa-eb0f3db7847d"
   },
   "outputs": [
    {
     "output_type": "stream",
     "name": "stdout",
     "text": [
      "Writing output2.txt\n"
     ]
    }
   ],
   "source": [
    "%%writefile output2.txt\n",
    "4"
   ]
  },
  {
   "cell_type": "code",
   "execution_count": 7,
   "metadata": {
    "colab": {
     "base_uri": "https://localhost:8080/"
    },
    "id": "PST6G-s-Pwgc",
    "outputId": "1ffae13c-98c4-47d0-b3ef-317e4a855ec0"
   },
   "outputs": [
    {
     "output_type": "stream",
     "name": "stdout",
     "text": [
      "12"
     ]
    }
   ],
   "source": [
    "!./APlusB < input1.txt"
   ]
  },
  {
   "cell_type": "code",
   "execution_count": 8,
   "metadata": {
    "colab": {
     "base_uri": "https://localhost:8080/"
    },
    "id": "cKxZOjSlRfIN",
    "outputId": "a132b940-176c-43fb-dc88-9d1b7a8b2607"
   },
   "outputs": [
    {
     "output_type": "stream",
     "name": "stdout",
     "text": [
      "4"
     ]
    }
   ],
   "source": [
    "!./APlusB < input2.txt"
   ]
  },
  {
   "cell_type": "markdown",
   "metadata": {
    "id": "Qw2TQWCCUwqk"
   },
   "source": [
    "### Comparing files with grep\n",
    "\n",
    "https://askubuntu.com/questions/546796/comparing-two-text-files"
   ]
  },
  {
   "cell_type": "code",
   "execution_count": 9,
   "metadata": {
    "id": "WVIaAmMKU4QM"
   },
   "outputs": [],
   "source": [
    "!grep -xvFf output1.txt output1.txt "
   ]
  },
  {
   "cell_type": "code",
   "execution_count": 10,
   "metadata": {
    "colab": {
     "base_uri": "https://localhost:8080/"
    },
    "id": "MQU8gPPjQuYO",
    "outputId": "aa7bd22c-a990-4c3e-95a3-245a263f440f"
   },
   "outputs": [
    {
     "output_type": "stream",
     "name": "stdout",
     "text": [
      "4\n"
     ]
    }
   ],
   "source": [
    "!grep -xvFf output1.txt output2.txt "
   ]
  },
  {
   "cell_type": "code",
   "execution_count": 11,
   "metadata": {
    "colab": {
     "base_uri": "https://localhost:8080/"
    },
    "id": "jYL9OuYBTD_l",
    "outputId": "971cb7af-db13-4a14-cf6d-a2d00149d320"
   },
   "outputs": [
    {
     "output_type": "stream",
     "name": "stdout",
     "text": [
      "12\n"
     ]
    }
   ],
   "source": [
    "!grep -xvFf output2.txt output1.txt "
   ]
  },
  {
   "cell_type": "code",
   "execution_count": 12,
   "metadata": {
    "id": "Jlja0Xm4TX9M"
   },
   "outputs": [],
   "source": [
    "!./APlusB < input1.txt> ctest1.txt\n",
    "!grep -xvFf output1.txt ctest1.txt"
   ]
  },
  {
   "cell_type": "code",
   "execution_count": 13,
   "metadata": {
    "id": "g9OIUZA_QLCQ"
   },
   "outputs": [],
   "source": [
    "!./APlusB < input2.txt > ctest2.txt\n",
    "!grep -xvFf output2.txt ctest2.txt"
   ]
  },
  {
   "cell_type": "markdown",
   "metadata": {
    "id": "3BgOaDjUVJk6"
   },
   "source": [
    "## Python"
   ]
  },
  {
   "cell_type": "code",
   "execution_count": 14,
   "metadata": {
    "colab": {
     "base_uri": "https://localhost:8080/"
    },
    "id": "DBvl-T0CTN_8",
    "outputId": "a6fb70ad-9db0-452c-bec0-8d5f62be2189"
   },
   "outputs": [
    {
     "output_type": "stream",
     "name": "stdout",
     "text": [
      "Writing sum.py\n"
     ]
    }
   ],
   "source": [
    "%%writefile sum.py\n",
    "# python3\n",
    "\n",
    "def sum_of_two_digits(first_digit, second_digit):\n",
    "    return first_digit + second_digit\n",
    "\n",
    "if __name__ == '__main__':\n",
    "    a, b = map(int, input().split())\n",
    "    print(sum_of_two_digits(a, b))"
   ]
  },
  {
   "cell_type": "code",
   "execution_count": 15,
   "metadata": {
    "colab": {
     "base_uri": "https://localhost:8080/"
    },
    "id": "QKoKM11_WGyF",
    "outputId": "e3867fb5-7d40-4ef1-ff1b-66c3135f67cb"
   },
   "outputs": [
    {
     "output_type": "stream",
     "name": "stdout",
     "text": [
      "12\n"
     ]
    }
   ],
   "source": [
    "!python sum.py < input1.txt"
   ]
  },
  {
   "cell_type": "code",
   "execution_count": 16,
   "metadata": {
    "id": "cocFbPRTWrqt"
   },
   "outputs": [],
   "source": [
    "!python sum.py  < input1.txt> ptest1.txt\n",
    "!grep -xvFf output1.txt ptest1.txt"
   ]
  },
  {
   "cell_type": "code",
   "execution_count": 17,
   "metadata": {
    "id": "MorKTa-XXASN"
   },
   "outputs": [],
   "source": [
    "!python sum.py  < input2.txt> ptest2.txt\n",
    "!grep -xvFf output2.txt ptest2.txt"
   ]
  },
  {
   "cell_type": "markdown",
   "metadata": {
    "id": "uvP-mOubW_5F"
   },
   "source": [
    "# II Solving The Maximum Pairwise Product Programming Challenge in C++"
   ]
  },
  {
   "cell_type": "markdown",
   "metadata": {
    "id": "C12yoFR6Xonl"
   },
   "source": [
    "## C++"
   ]
  },
  {
   "cell_type": "code",
   "execution_count": 18,
   "metadata": {
    "colab": {
     "base_uri": "https://localhost:8080/"
    },
    "id": "YL4qJX3tXxdd",
    "outputId": "76f550a6-b694-4086-951e-5aa1b3ac3845"
   },
   "outputs": [
    {
     "output_type": "stream",
     "name": "stdout",
     "text": [
      "Writing max_pairwise_product.cpp\n"
     ]
    }
   ],
   "source": [
    "%%writefile max_pairwise_product.cpp\n",
    "#include <iostream>\n",
    "#include <vector>\n",
    "#include <algorithm>\n",
    "\n",
    "int MaxPairwiseProduct(const std::vector<int>& numbers) {\n",
    "    int max_product = 0;\n",
    "    int n = numbers.size();\n",
    "\n",
    "    for (int first = 0; first < n; ++first) {\n",
    "        for (int second = first + 1; second < n; ++second) {\n",
    "            max_product = std::max(max_product,\n",
    "                numbers[first] * numbers[second]);\n",
    "        }\n",
    "    }\n",
    "\n",
    "    return max_product;\n",
    "}\n",
    "\n",
    "int main() {\n",
    "    int n;\n",
    "    std::cin >> n;\n",
    "    std::vector<int> numbers(n);\n",
    "    for (int i = 0; i < n; ++i) {\n",
    "        std::cin >> numbers[i];\n",
    "    }\n",
    "\n",
    "    std::cout << MaxPairwiseProduct(numbers) << \"\\n\";\n",
    "    return 0;\n",
    "}\n"
   ]
  },
  {
   "cell_type": "code",
   "execution_count": 19,
   "metadata": {
    "colab": {
     "base_uri": "https://localhost:8080/"
    },
    "id": "KGxaEjvWX__O",
    "outputId": "3f856225-4011-46bf-dab1-05a7c27b2580"
   },
   "outputs": [
    {
     "output_type": "stream",
     "name": "stdout",
     "text": [
      "0\n"
     ]
    }
   ],
   "source": [
    "!g++ max_pairwise_product.cpp -o max_pairwise_product\n",
    "!./max_pairwise_product < input1.txt"
   ]
  },
  {
   "cell_type": "markdown",
   "metadata": {},
   "source": [
    "### Python Tests "
   ]
  },
  {
   "cell_type": "markdown",
   "metadata": {},
   "source": [
    "Test 1  generate a tests file with the maximun n 20 numbres and measure time"
   ]
  },
  {
   "cell_type": "code",
   "execution_count": 20,
   "metadata": {},
   "outputs": [],
   "source": [
    "import random\n",
    "from os import remove\n",
    "\n",
    "try:\n",
    "\tremove(\"input4.txt\")\n",
    "except OSError:\n",
    "\tpass\n",
    "\n",
    "n = 20\n",
    "f = open(\"input4.txt\", \"a\")\n",
    "f.write(str(n)+\"\\n\")\n",
    "for i in range(n):\n",
    "\tr1 = random.randint(0, 200000)\n",
    "\tf.write(str(r1)+\"\\n\")\n",
    "f.close()"
   ]
  },
  {
   "cell_type": "markdown",
   "metadata": {},
   "source": [
    "Test 2  generate a tests file with the maximun n 200000 numbres and measure time"
   ]
  },
  {
   "cell_type": "code",
   "execution_count": 21,
   "metadata": {},
   "outputs": [],
   "source": [
    "import random\n",
    "from os import remove\n",
    "\n",
    "try:\n",
    "\tremove(\"input3.txt\")\n",
    "except OSError:\n",
    "\tpass\n",
    "\n",
    "n = 200000-2\n",
    "f = open(\"input3.txt\", \"a\")\n",
    "f.write(str(n+2)+\"\\n\")\n",
    "f.write(\"200000\\n\")\n",
    "for i in range(n):\n",
    "\tr1 = random.randint(0, 200000)\n",
    "\tf.write(str(r1)+\"\\n\")\n",
    "f.write(\"200000\")\n",
    "f.close()"
   ]
  },
  {
   "cell_type": "markdown",
   "metadata": {
    "id": "e7KhxHGNS3i0"
   },
   "source": [
    "### Test 1: Small numbers"
   ]
  },
  {
   "cell_type": "code",
   "execution_count": 22,
   "metadata": {
    "colab": {
     "base_uri": "https://localhost:8080/"
    },
    "id": "e1mmTzBgShT-",
    "outputId": "43076bfb-d95a-4ff9-9beb-a7d02ac43c4d"
   },
   "outputs": [
    {
     "output_type": "stream",
     "name": "stdout",
     "text": [
      "Overwriting input1.txt\n"
     ]
    }
   ],
   "source": [
    "%%writefile input1.txt\n",
    "10\n",
    "1 2 3 4 5 6 7 8 9 10"
   ]
  },
  {
   "cell_type": "code",
   "execution_count": 23,
   "metadata": {
    "colab": {
     "base_uri": "https://localhost:8080/"
    },
    "id": "vy_uI0x7TCId",
    "outputId": "2783453a-1f2a-4243-f377-e8eee0e53ff5"
   },
   "outputs": [
    {
     "output_type": "stream",
     "name": "stdout",
     "text": [
      "90\n"
     ]
    }
   ],
   "source": [
    "!./max_pairwise_product < input1.txt"
   ]
  },
  {
   "cell_type": "markdown",
   "metadata": {
    "id": "IeZ3kTjpYmR9"
   },
   "source": [
    "### Test 2: largest input numbers 200000 200000 in the input"
   ]
  },
  {
   "cell_type": "code",
   "execution_count": 24,
   "metadata": {
    "colab": {
     "base_uri": "https://localhost:8080/"
    },
    "id": "LQNlZqaqYt7U",
    "outputId": "e82f56cd-f988-4ca4-92c8-56b33190da8a"
   },
   "outputs": [
    {
     "output_type": "stream",
     "name": "stdout",
     "text": [
      "Overwriting input2.txt\n"
     ]
    }
   ],
   "source": [
    "%%writefile input2.txt\n",
    "6\n",
    "1 3 200000 9 200000 23"
   ]
  },
  {
   "cell_type": "code",
   "execution_count": 25,
   "metadata": {
    "colab": {
     "base_uri": "https://localhost:8080/"
    },
    "id": "2Wad2VZUZDxR",
    "outputId": "53715137-ffce-4884-c4ef-98932df16b39"
   },
   "outputs": [
    {
     "output_type": "stream",
     "name": "stdout",
     "text": [
      "1345294336\n"
     ]
    }
   ],
   "source": [
    "!./max_pairwise_product < input2.txt"
   ]
  },
  {
   "cell_type": "markdown",
   "metadata": {
    "id": "H2SC0Qt5HCzz"
   },
   "source": [
    "Changing the variables to long long"
   ]
  },
  {
   "cell_type": "code",
   "execution_count": 26,
   "metadata": {
    "colab": {
     "base_uri": "https://localhost:8080/"
    },
    "id": "MPcmsxiQZSfE",
    "outputId": "1f8fd4f4-fe94-4e27-9801-6780c888c7aa"
   },
   "outputs": [
    {
     "output_type": "stream",
     "name": "stdout",
     "text": [
      "Writing max_pairwise_product_long.cpp\n"
     ]
    }
   ],
   "source": [
    "%%writefile max_pairwise_product_long.cpp\n",
    "#include <iostream>\n",
    "#include <vector>\n",
    "#include <algorithm>\n",
    "\n",
    "long long MaxPairwiseProduct(const std::vector<int>& numbers) {\n",
    "    long long max_product = 0LL;\n",
    "\t  long long aux_product = 0LL;\n",
    "    int n = numbers.size();\n",
    "\n",
    "    for (int first = 0; first < n; ++first) {\n",
    "        for (int second = first + 1; second < n; ++second) {\n",
    "\t\t\t       aux_product =  (long long) numbers[first] * numbers[second];\n",
    "            if ( max_product < aux_product)  {\n",
    "\t\t\t\t        max_product = aux_product;\n",
    "             }\n",
    "        }\n",
    "    }\n",
    "\n",
    "    return max_product;\n",
    "}\n",
    "\n",
    "int main() {\n",
    "    int n;\n",
    "    std::cin >> n;\n",
    "    std::vector<int> numbers(n);\n",
    "    for (int i = 0; i < n; ++i) {\n",
    "        std::cin >> numbers[i];\n",
    "    }\n",
    "\n",
    "    std::cout << MaxPairwiseProduct(numbers) << \"\\n\";\n",
    "    return 0;\n",
    "}\n"
   ]
  },
  {
   "cell_type": "code",
   "execution_count": 27,
   "metadata": {
    "colab": {
     "base_uri": "https://localhost:8080/"
    },
    "id": "I5pCeOG1Zm7s",
    "outputId": "857e0e16-cbac-4276-b003-b1f485f21f1f"
   },
   "outputs": [
    {
     "output_type": "stream",
     "name": "stdout",
     "text": [
      "90\n",
      "40000000000\n"
     ]
    }
   ],
   "source": [
    "!g++ max_pairwise_product_long.cpp -o max_pairwise_product_long\n",
    "!./max_pairwise_product_long < input1.txt\n",
    "!./max_pairwise_product_long < input2.txt"
   ]
  },
  {
   "cell_type": "markdown",
   "metadata": {
    "id": "XPVHkHxH6_7s"
   },
   "source": [
    "### Test 3  stress tests 20  times  random n in [2, 20] "
   ]
  },
  {
   "cell_type": "code",
   "execution_count": 28,
   "metadata": {
    "id": "PwqpBmYr69fu"
   },
   "outputs": [
    {
     "output_type": "stream",
     "name": "stdout",
     "text": [
      "Writing Test2Write.cpp\n"
     ]
    }
   ],
   "source": [
    "%%writefile Test2Write.cpp\n",
    "\n",
    "#include <iostream>\n",
    "#include <fstream>\n",
    "#include <cstdlib>\n",
    "\n",
    "using namespace std;\n",
    "\n",
    "int main() {\n",
    "  // Create and open a text file\n",
    "  ofstream MyFile(\"input3.txt\");\n",
    "\n",
    " for (int i=1; i < 20; i++){\n",
    "     MyFile << i <<\" \";\n",
    " }\n",
    "  \n",
    "  // Close the file\n",
    "  MyFile.close();\n",
    "}"
   ]
  },
  {
   "cell_type": "markdown",
   "metadata": {
    "id": "9z9yr5QkeyJF"
   },
   "source": [
    "### Test 4  time test  measure the execution time running with the the largest worst case file (200000 increasing numbers, 200000 and 200000 the end) "
   ]
  },
  {
   "cell_type": "code",
   "execution_count": 29,
   "metadata": {
    "colab": {
     "base_uri": "https://localhost:8080/"
    },
    "id": "oLiMjbAIfPlX",
    "outputId": "a7589dc3-93ba-410d-cb72-cd05a590a6f3"
   },
   "outputs": [
    {
     "output_type": "stream",
     "name": "stdout",
     "text": [
      "Overwriting Test2Write.cpp\n"
     ]
    }
   ],
   "source": [
    "%%writefile Test2Write.cpp\n",
    "\n",
    "#include <iostream>\n",
    "#include <fstream>\n",
    "#include <cstdlib>\n",
    "\n",
    "using namespace std;\n",
    "\n",
    "int main() {\n",
    "  // Create and open a text file\n",
    "  ofstream MyFile(\"input4.txt\");\n",
    "\n",
    " MyFile << 200000 <<\"\\n\";  // n \n",
    " for (int i=1; i < 200001; i++){\n",
    "     MyFile << i <<\" \";\n",
    " }\n",
    "  \n",
    "  // Close the file\n",
    "  MyFile.close();\n",
    "}"
   ]
  },
  {
   "cell_type": "code",
   "execution_count": 30,
   "metadata": {
    "id": "EH25TkOkZfD9"
   },
   "outputs": [],
   "source": [
    "!g++ Test2Write.cpp -o Test2Write\n",
    "!./Test2Write"
   ]
  },
  {
   "cell_type": "markdown",
   "metadata": {
    "id": "JB6f03qO-lj9"
   },
   "source": [
    "Measure time\n",
    "\n",
    "https://askubuntu.com/questions/53444/how-can-i-measure-the-execution-time-of-a-terminal-process"
   ]
  },
  {
   "cell_type": "code",
   "execution_count": 31,
   "metadata": {
    "colab": {
     "base_uri": "https://localhost:8080/"
    },
    "id": "6p2QLEr576zk",
    "outputId": "e2a4a6aa-3c0c-4d1d-8405-1562c263baf4"
   },
   "outputs": [
    {
     "output_type": "stream",
     "name": "stdout",
     "text": [
      "40000000000\n\nreal\t5m13.967s\nuser\t5m13.924s\nsys\t0m0.031s\n"
     ]
    }
   ],
   "source": [
    "!g++ max_pairwise_product_long.cpp -o max_pairwise_product_long\n",
    "!time ./max_pairwise_product_long < input3.txt"
   ]
  },
  {
   "cell_type": "markdown",
   "metadata": {
    "id": "AmZeB2wYjxy5"
   },
   "source": [
    "##### Calculate  the number of instructions executed by the algorithm as a function of n, add in each line a comment with the number of instructions that are executed in that line \n",
    "\n",
    "```cpp\n",
    " int main() {                         //N inst exec by line executed  \n",
    "   \n",
    "    int n;                            //1                      \n",
    "    std::cin >> n;                    //1\n",
    "                                              \n",
    "    std::vector<int> numbers(n);      //n    init vector\n",
    "    .\n",
    "    .\n",
    " }\n",
    "\n",
    "```"
   ]
  },
  {
   "cell_type": "code",
   "execution_count": 32,
   "metadata": {
    "colab": {
     "base_uri": "https://localhost:8080/"
    },
    "id": "djGX3FL13g9b",
    "outputId": "270176eb-1660-419e-de67-2c8f8c3c7f74"
   },
   "outputs": [
    {
     "output_type": "stream",
     "name": "stdout",
     "text": [
      "Writing test_init_vectors.cpp\n"
     ]
    }
   ],
   "source": [
    "%%writefile test_init_vectors.cpp\n",
    "#include <iostream>\n",
    "#include <vector>\n",
    "#include <algorithm>\n",
    "int main() {                                                               \n",
    "    int n = 10;                                                                                                                            //1\n",
    "    std::vector<int> numbers(n);                                            \n",
    "    for (int i = 0; i < n; ++i) {                                           \n",
    "        std::cout << numbers[i];                                             \n",
    "    }\n",
    "\n",
    "    std::cout << \"\\n\";                       \n",
    "    return 0;                                                              \n",
    "}  "
   ]
  },
  {
   "cell_type": "code",
   "execution_count": 33,
   "metadata": {
    "colab": {
     "base_uri": "https://localhost:8080/"
    },
    "id": "44gZcuE237-1",
    "outputId": "7f5f9c2a-bed0-4223-ee39-3290f70db610"
   },
   "outputs": [
    {
     "output_type": "stream",
     "name": "stdout",
     "text": [
      "0000000000\n"
     ]
    }
   ],
   "source": [
    "!g++ test_init_vectors.cpp -o test_init_vectors\n",
    "!./test_init_vectors"
   ]
  },
  {
   "cell_type": "code",
   "execution_count": 34,
   "metadata": {
    "colab": {
     "base_uri": "https://localhost:8080/"
    },
    "id": "uG6Mv-Pwlkii",
    "outputId": "8b4b2a48-2fc3-4feb-81ab-088e183a49f5"
   },
   "outputs": [
    {
     "output_type": "stream",
     "name": "stdout",
     "text": [
      "Overwriting max_pairwise_product_long.cpp\n"
     ]
    }
   ],
   "source": [
    "%%writefile max_pairwise_product_long.cpp\n",
    "#include <iostream>\n",
    "#include <vector>\n",
    "#include <algorithm>\n",
    "\n",
    "long long MaxPairwiseProduct(const std::vector<int>& numbers) {              //N inst exec by line executed \n",
    "    long long max_product = 0LL;                                             //1                                          \n",
    "\t  long long aux_product = 0LL;                                             //1 \n",
    "    int n = numbers.size();                                                  //1 \n",
    "                                                                             \n",
    "    for (int first = 0; first < n; ++first) {                                //1+2n  \n",
    "        for (int second = first + 1; second < n; ++second) {                 //n + (n-1)n \n",
    "\t\t\t       aux_product =  (long long) numbers[first] * numbers[second];    //(n-1)n/2 \n",
    "            if (max_product < aux_product)  {                                //(n-1)n/2 \n",
    "\t\t\t\t        max_product = aux_product;                                   //[0, (n-1)n/2] \n",
    "             }\n",
    "        }\n",
    "    }\n",
    "                                                                             // -------------- \n",
    "    return max_product;                                                      // 4 + 3n + [2(n-1)n, 2.5 (n-1)n] \n",
    "}\n",
    "\n",
    "int main() {                                              //N inst exec by line executed \n",
    "    int n;                                                //1  \n",
    "    std::cin >> n;                                        //1\n",
    "    std::vector<int> numbers(n);                          //n\n",
    "    for (int i = 0; i < n; ++i) {                         //1 + 2n\n",
    "        std::cin >> numbers[i];                           //n\n",
    "    }\n",
    "\n",
    "    std::cout << MaxPairwiseProduct(numbers) << \"\\n\";     //1 + 1  + 4 + 3n + [2(n-1)n, 2.5 (n-1)n]\n",
    "    return 0;                                             // -------------- \n",
    "}                                                         // 9 + 7n + [2(n-1)n, 2.5 (n-1)n]\n"
   ]
  },
  {
   "cell_type": "markdown",
   "metadata": {
    "id": "0vTsUg8OwcHs"
   },
   "source": [
    "Count executed intructions in code and verify with inputs 1, 2 and 3"
   ]
  },
  {
   "cell_type": "code",
   "execution_count": 35,
   "metadata": {
    "colab": {
     "base_uri": "https://localhost:8080/"
    },
    "id": "CuRKkqQc137V",
    "outputId": "58b72004-01f8-4734-96f8-5ff1a32cdd31"
   },
   "outputs": [
    {
     "output_type": "stream",
     "name": "stdout",
     "text": [
      "Writing max_pairwise_product_long_execints.cpp\n"
     ]
    }
   ],
   "source": [
    "%%writefile max_pairwise_product_long_execints.cpp\n",
    "#include <iostream>\n",
    "#include <vector>\n",
    "#include <algorithm>\n",
    "\n",
    "long long MaxPairwiseProduct(const std::vector<int>& numbers, long long &execints) {              //N inst exec by line executed \n",
    "    \n",
    "    long long m = 0LL;                                                       //1\n",
    "    \n",
    "    long long max_product = 0LL;                                             //1\n",
    "    execints++;\n",
    "\n",
    "\t  long long aux_product = 0LL;                                             //1\n",
    "    execints++;\n",
    "\n",
    "    int n = numbers.size();                                                  //1 \n",
    "    execints++;\n",
    "\n",
    "    execints++;                                                                         \n",
    "    for (int first = 0; first < n; ++first) {                                //1+2n  \n",
    "        execints += 2;\n",
    "\n",
    "        long long m = 0LL;\n",
    "\n",
    "        execints++;                                    \n",
    "        for (int second = first + 1; second < n; ++second) {                 //n+ (n-1)n \n",
    "            execints += 2;                                                \n",
    "\n",
    "\t\t\t      aux_product =  (long long) numbers[first] * numbers[second];    //(n-1)n/2 \n",
    "            execints++; \n",
    "\n",
    "            execints++; \n",
    "            if ( max_product < aux_product)  {                               //(n-1)n/2 \n",
    "                       \n",
    "\t\t\t\t        max_product = aux_product;                                   //[0, (n-1)n/2] \n",
    "                execints++; \n",
    "                m++;\n",
    "             }\n",
    "        }\n",
    "        if ( (first <= 10) || (n- first <= 10)) std::cout << m << \"\\n\";\n",
    "    }\n",
    "                                                                            // -------------- \n",
    "    return max_product;                                                     // 4 + 3n + [2(n-1)n, 2.5 (n-1)n] \n",
    "}\n",
    "\n",
    "int main() {                                                 //N inst exec by line executed \n",
    "    long long execints =0LL;\n",
    "\n",
    "    int n;                                                   //1\n",
    "    execints++;                                                              \n",
    "    \n",
    "    std::cin >> n;                                           //1\n",
    "    execints++;\n",
    "\n",
    "    std::vector<int> numbers(n);                             //n\n",
    "    execints += n;\n",
    "    \n",
    "    execints++;\n",
    "    for (int i = 0; i < n; ++i) {                            //1 + 2n\n",
    "        execints += 2;\n",
    "\n",
    "        std::cin >> numbers[i];\n",
    "        execints++;                                          //n\n",
    "    }\n",
    "    \n",
    "    //std::cout << MaxPairwiseProduct(numbers) << \"\\n\";      //1 + 1  + 4 + 3n + [2(n-1)n, 2.5 (n-1)n]\n",
    "\n",
    "    execints++;\n",
    "    int M = MaxPairwiseProduct(numbers,execints);\n",
    "\n",
    "    execints++;\n",
    "    std::cout <<  execints << \"\\n\";                       \n",
    "    return 0;                                                // -------------- \n",
    "}                                                            // 9 + 7n + [2(n-1)n, 2.5 (n-1)n]"
   ]
  },
  {
   "cell_type": "code",
   "execution_count": 36,
   "metadata": {
    "colab": {
     "base_uri": "https://localhost:8080/"
    },
    "id": "Kuvm1C05ly2a",
    "outputId": "f8e2f872-e7d9-4732-acb4-5ffe2e6568d1"
   },
   "outputs": [
    {
     "output_type": "stream",
     "name": "stdout",
     "text": [
      "9\n",
      "5\n",
      "4\n",
      "3\n",
      "2\n",
      "2\n",
      "2\n",
      "2\n",
      "1\n",
      "0\n",
      "289\n",
      "2\n",
      "1\n",
      "2\n",
      "0\n",
      "0\n",
      "0\n",
      "116\n",
      "14\n",
      "0\n",
      "0\n",
      "0\n",
      "0\n",
      "0\n",
      "0\n",
      "0\n",
      "0\n",
      "0\n",
      "0\n",
      "0\n",
      "0\n",
      "0\n",
      "0\n",
      "0\n",
      "0\n",
      "0\n",
      "0\n",
      "0\n",
      "0\n",
      "80001000023\n"
     ]
    }
   ],
   "source": [
    "!g++ max_pairwise_product_long_execints.cpp -o max_pairwise_product_long_execints\n",
    "!./max_pairwise_product_long_execints < input1.txt\n",
    "!./max_pairwise_product_long_execints < input2.txt\n",
    "!./max_pairwise_product_long_execints < input3.txt"
   ]
  },
  {
   "cell_type": "markdown",
   "metadata": {
    "id": "L_uaamxeAHK7"
   },
   "source": [
    "The number of instructions executed by the algooirithm with a list of size $n$ is  \n",
    "\n",
    "$$T = 9 + 7n + [2(n-1)n, 2.5 (n-1)n]$$\n",
    "\n",
    "It depends on the size of the lists and  the order of the list.\n",
    "\n",
    "For the input1.txt \n",
    "```\n",
    "10\n",
    "1 2 3 4 5 6 7 8 9 10\n",
    "```\n",
    "$$T = 9 + 7(10) + 2(9)(10) +  9 + 5 + 4 + 3 + 2 + 2 + 2 + 2 + 1 + 0  = 289 $$\n",
    "\n",
    "For the input2.txt \n",
    "```\n",
    "6\n",
    "1 3 200000 9 200000 23\n",
    "```\n",
    "$$T = 9 + 7(6) + 2(5)(6)  +  2 + 1 + 2 + 0 + 0 + 0 = 116 $$\n",
    "\n",
    "\n",
    "For the input3.txt that is the worst case (n=200000 and list in incresing order)\n",
    "\n",
    "```\n",
    "200000\n",
    "1 2 3 4 5 6 7 8 9 10 ... 199998 199999 200000\n",
    "```\n",
    "\n",
    "$$\n",
    "\\begin{array}{ll}\n",
    "T &= 9 + 7(200000) + (2)(199999)(200000)  + (199999 +\n",
    "100000 + 66667 +50000 \\cdots 2 + 2 + 1)\\\\\n",
    "&= 80003672077  \\\\\n",
    "  &< 9 + 7(200000) + (2.5)(199999)(200000) \\\\\n",
    "  & = 100000900009\n",
    "\\end{array}\n",
    "  $$"
   ]
  },
  {
   "cell_type": "markdown",
   "metadata": {
    "id": "NXW7QkoBL6xH"
   },
   "source": [
    "Calculate estimated time by instruction and number of instructions by second"
   ]
  },
  {
   "cell_type": "code",
   "execution_count": 37,
   "metadata": {
    "colab": {
     "base_uri": "https://localhost:8080/"
    },
    "id": "pKqB3i7dIxnc",
    "outputId": "cec850f5-16e3-4cd6-bf9b-6f5f2fd7b076"
   },
   "outputs": [
    {
     "output_type": "execute_result",
     "data": {
      "text/plain": [
       "1.5999265618308827e-09"
      ]
     },
     "metadata": {},
     "execution_count": 37
    }
   ],
   "source": [
    "# Estimated time by instruction\n",
    "\n",
    "128/80003672077 \n"
   ]
  },
  {
   "cell_type": "code",
   "execution_count": 38,
   "metadata": {
    "colab": {
     "base_uri": "https://localhost:8080/"
    },
    "id": "18N1ouqeMhE1",
    "outputId": "d7d4d1bf-b899-4c01-8ecb-e30da3ae6468"
   },
   "outputs": [
    {
     "output_type": "execute_result",
     "data": {
      "text/plain": [
       "625028688.1015625"
      ]
     },
     "metadata": {},
     "execution_count": 38
    }
   ],
   "source": [
    "# Estimated number of instructions by second\n",
    "\n",
    "1/(128/80003672077) "
   ]
  },
  {
   "cell_type": "markdown",
   "metadata": {
    "id": "CQufozXLNJwO"
   },
   "source": [
    "### Efficient solution"
   ]
  },
  {
   "cell_type": "markdown",
   "metadata": {
    "id": "nLcKBwbU0QsE"
   },
   "source": [
    "Add in each line a coment with the number of intstrcution that are executed in that line"
   ]
  },
  {
   "cell_type": "code",
   "execution_count": 39,
   "metadata": {
    "id": "knls5Fh3NSt_"
   },
   "outputs": [
    {
     "output_type": "stream",
     "name": "stdout",
     "text": [
      "Writing main.cpp\n"
     ]
    }
   ],
   "source": [
    "%%writefile main.cpp\n",
    "#include <iostream>\n",
    "#include <vector>\n",
    "#include <algorithm>\n",
    "#include <chrono>\n",
    "#include <ctime>\n",
    "#include <bits/stdc++.h>\n",
    "\n",
    "using namespace std;\n",
    "\n",
    "long long maxPairwiseProduct(const vector<unsigned long long int>& numbers) {\n",
    "  long long max_product = 0LL;\n",
    "  long long aux_product = 0LL;\n",
    "  int n = numbers.size();\n",
    "\n",
    "  for (int first = 0; first < n; ++first) {\n",
    "    for (int second = first + 1; second < n; ++second) {\n",
    "      aux_product =  (long long) numbers[first] * numbers[second];\n",
    "      if ( max_product < aux_product)  {\n",
    "        max_product = aux_product;\n",
    "      }\n",
    "    }\n",
    "  }\n",
    "  return max_product;\n",
    "}\n",
    "\n",
    "long long maxPairwiseProductList(vector<unsigned long long int>& numbers){\n",
    "  sort(numbers.begin(), numbers.end());\n",
    "  return numbers[numbers.size()-1]*numbers[numbers.size()-2];\n",
    "}\n",
    "\n",
    "long long maxPairwiseProductFast(vector<unsigned long long int>& numbers){  \n",
    "  long long n = numbers.size();\n",
    "  int index1 = 0;\n",
    "  int index2 = 0;\n",
    "    \n",
    "  for(int i= 1; i < n; i++){\n",
    "    if(numbers[i] > numbers[index1]){\n",
    "      index1 = i;\n",
    "    }\n",
    "  }\n",
    "    \n",
    "  for(int i= 1; i < n; i++){\n",
    "    if(i!=index1 && numbers[i]>numbers[index2]){\n",
    "      index2 = i;\n",
    "    }\n",
    "  } \n",
    "    \n",
    "  return numbers[index1]*numbers[index2];\n",
    "}\n",
    "\n",
    "int main() {\n",
    "  int n;\n",
    "  cin >> n;\n",
    "  unsigned long long int maxNumber = 0LL;\n",
    "  unsigned long long int maxSecondNumber = 0LL;\n",
    "  unsigned long long int aux = 0LL;\n",
    "  vector <unsigned long long int> numbers (n);\n",
    "\n",
    "  auto start = chrono::high_resolution_clock::now();\n",
    "\n",
    "  for (int i = 0; i < n; ++i) {\n",
    "    cin >> numbers[i];\n",
    "  }\n",
    "  \n",
    "  auto stop = chrono::high_resolution_clock::now();\n",
    "  auto ms_int = chrono::duration_cast<chrono::milliseconds>(stop - start);\n",
    "  auto reading_time = ms_int.count();\n",
    "  start = chrono::high_resolution_clock::now();\n",
    "\n",
    "  cout<<endl;\n",
    "  cout<<\"Start Test...\"<<endl;\n",
    "  cout << \"Result using Fast method: \" << maxPairwiseProductFast(numbers) << endl;\n",
    "  stop = chrono::high_resolution_clock::now();\n",
    "  ms_int = chrono::duration_cast<chrono::milliseconds>(stop - start);\n",
    "  cout << \"Execution time: \" << reading_time + ms_int.count() << \" ms\" << endl;\n",
    "\n",
    "  cout << endl;\n",
    "  \n",
    "  start = chrono::high_resolution_clock::now();\n",
    "  cout << \"Result using List method: \" << maxPairwiseProductList(numbers) << endl;\n",
    "  stop = chrono::high_resolution_clock::now();\n",
    "  ms_int = chrono::duration_cast<chrono::milliseconds>(stop - start);\n",
    "  cout << \"Execution time: \" << reading_time + ms_int.count() << \" ms\" << endl;\n",
    "\n",
    "  cout << endl;\n",
    "\n",
    "  start = chrono::high_resolution_clock::now();\n",
    "  cout << \"Result using naive method: \" << maxPairwiseProduct(numbers) << endl;\n",
    "  stop = chrono::high_resolution_clock::now();\n",
    "  ms_int = chrono::duration_cast<chrono::milliseconds>(stop - start);\n",
    "  cout << \"Execution time: \" << reading_time + ms_int.count() << \" ms\" << endl;\n",
    "  return 0;\n",
    "}"
   ]
  },
  {
   "cell_type": "markdown",
   "metadata": {
    "id": "-JCijbWxNSii"
   },
   "source": [
    "Test with inputs 1 and 2\n",
    "\n"
   ]
  },
  {
   "cell_type": "code",
   "execution_count": 40,
   "metadata": {
    "id": "TrTGAfqlNVXT"
   },
   "outputs": [
    {
     "output_type": "stream",
     "name": "stdout",
     "text": [
      "\n",
      "Start Test...\n",
      "Result using Fast method: 90\n",
      "Execution time: 0 ms\n",
      "\n",
      "Result using List method: 90\n",
      "Execution time: 0 ms\n",
      "\n",
      "Result using naive method: 90\n",
      "Execution time: 0 ms\n",
      "\n",
      "Start Test...\n",
      "Result using Fast method: 40000000000\n",
      "Execution time: 0 ms\n",
      "\n",
      "Result using List method: 40000000000\n",
      "Execution time: 0 ms\n",
      "\n",
      "Result using naive method: 40000000000\n",
      "Execution time: 0 ms\n"
     ]
    }
   ],
   "source": [
    "!g++ main.cpp -o main\n",
    "!./main < input1.txt\n",
    "!./main < input2.txt"
   ]
  },
  {
   "cell_type": "markdown",
   "metadata": {
    "id": "PRX51wADNR8b"
   },
   "source": [
    "Test and time it with input 3"
   ]
  },
  {
   "cell_type": "code",
   "execution_count": 41,
   "metadata": {
    "id": "v4z7-Is_NRt7"
   },
   "outputs": [
    {
     "output_type": "stream",
     "name": "stdout",
     "text": [
      "\n",
      "Start Test...\n",
      "Result using Fast method: 40000000000\n",
      "Execution time: 276 ms\n",
      "\n",
      "Result using List method: 40000000000\n",
      "Execution time: 483 ms\n",
      "\n",
      "Result using naive method: 40000000000\n",
      "Execution time: 262222 ms\n"
     ]
    }
   ],
   "source": [
    "!./main < input3.txt"
   ]
  },
  {
   "cell_type": "markdown",
   "metadata": {
    "id": "rpdfs0_TNZJf"
   },
   "source": [
    "20 stress tests"
   ]
  },
  {
   "cell_type": "code",
   "execution_count": 42,
   "metadata": {
    "id": "Lu4tYcKzNcTT"
   },
   "outputs": [
    {
     "output_type": "stream",
     "name": "stdout",
     "text": [
      "\n",
      "Start Test...\n",
      "Result using Fast method: 39999800000\n",
      "Execution time: 108 ms\n",
      "\n",
      "Result using List method: 39999800000\n",
      "Execution time: 200 ms\n",
      "\n",
      "Result using naive method: 39999800000\n",
      "Execution time: 235828 ms\n"
     ]
    }
   ],
   "source": [
    "!g++ main.cpp -o main\n",
    "!./main < input4.txt"
   ]
  },
  {
   "cell_type": "markdown",
   "metadata": {
    "id": "L8U4151JNbxk"
   },
   "source": [
    "Count executed instructions in code and verify with inputs 1,2 and 3\n"
   ]
  },
  {
   "cell_type": "code",
   "execution_count": 43,
   "metadata": {
    "id": "dh85RM8vNhFz"
   },
   "outputs": [
    {
     "output_type": "stream",
     "name": "stdout",
     "text": [
      "Overwriting main.cpp\n"
     ]
    }
   ],
   "source": [
    "%%writefile main.cpp\n",
    "#include <iostream>\n",
    "#include <vector>\n",
    "#include <algorithm>\n",
    "#include <chrono>\n",
    "#include <ctime>\n",
    "#include <bits/stdc++.h>\n",
    "\n",
    "using namespace std;\n",
    "\n",
    "long long maxPairwiseProductList(vector<unsigned long long int>& numbers){\n",
    "  sort(numbers.begin(), numbers.end());                                           //nlog(n)\n",
    "  return numbers[numbers.size()-1]*numbers[numbers.size()-2];                     //1\n",
    "}\n",
    "\n",
    "\n",
    "long long maxPairwiseProduct(const vector<unsigned long long int>& numbers) {\n",
    "  long long max_product = 0LL;                                                   //1\n",
    "  long long aux_product = 0LL;                                                   //1\n",
    "  int n = numbers.size();                                                        //1\n",
    "\n",
    "  for (int first = 0; first < n; ++first) {                                      //n\n",
    "    for (int second = first + 1; second < n; ++second) {                         //n\n",
    "      aux_product =  (long long) numbers[first] * numbers[second];               //1\n",
    "      if ( max_product < aux_product)  {\n",
    "        max_product = aux_product;                                               //1\n",
    "      }\n",
    "    }\n",
    "  }\n",
    "  return max_product;\n",
    "}\n",
    "\n",
    "long long maxPairwiseProductFast(vector<unsigned long long int>& numbers){  \n",
    "  long long n = numbers.size();                                                   //1\n",
    "  int index1 = 0;                                                                 //1\n",
    "  int index2 = 0;                                                                 //1\n",
    "    \n",
    "  for(int i= 1; i < n; i++){                                                      //n\n",
    "    if(numbers[i] > numbers[index1]){                                             \n",
    "      index1 = i;\n",
    "    }\n",
    "  }\n",
    "    \n",
    "  for(int i= 1; i < n; i++){                                                       //n\n",
    "    if(i!=index1 && numbers[i]>numbers[index2]){\n",
    "      index2 = i;\n",
    "    }\n",
    "  } \n",
    "    \n",
    "  return numbers[index1]*numbers[index2];                                         //1\n",
    "}\n",
    "\n",
    "int main() {\n",
    "  int n;                                                                           //1\n",
    "  cin >> n;                                                                        //1\n",
    "  unsigned long long int maxNumber = 0LL;                                          //1\n",
    "  unsigned long long int maxSecondNumber = 0LL;                                    //1\n",
    "  unsigned long long int aux = 0LL;                                                //1\n",
    "  vector <unsigned long long int> numbers (n);                                     //n\n",
    "\n",
    "  for (int i = 0; i < n; ++i) {\n",
    "    cin >> numbers[i];                                                             //n\n",
    "  }\n",
    "  \n",
    "  cout << \"maxPairwiseProductList method: \" << maxPairwiseProductList(numbers) << endl; //nlog(n)\n",
    "  cout << \"maxPairwiseProduct method: \" << maxPairwiseProduct(numbers) << endl; //n^2\n",
    "  cout << \"maxPairwiseProductFast method: \" << maxPairwiseProductFast(numbers) << endl; //2n\n",
    "  \n",
    "  return 0;\n",
    "}"
   ]
  },
  {
   "cell_type": "markdown",
   "metadata": {
    "id": "K6ybgCmpNygr"
   },
   "source": [
    "Calculate estimated time by instruction and number of instructions by second"
   ]
  },
  {
   "cell_type": "markdown",
   "metadata": {
    "id": "kwe3G1O3Nz1w"
   },
   "source": [
    "maxPairwiseProductList: 5+n+n+nlog(n) = nlog(n)\n",
    "\n",
    "maxPairwiseProduct: 5+n+n+n+3+n*(n+2)+1 = n^2\n",
    "\n",
    "maxPairwiseProductFast method: 5+n+n+n+3+n+n+1 = n"
   ]
  },
  {
   "cell_type": "markdown",
   "metadata": {
    "id": "sc9nOLQrfTm0"
   },
   "source": [
    "### Super efficient solution\n",
    "\n",
    "Whitout storing the list in memory and whitout calling a function, add in each line a coment with the number of intstrcution that are executed in that line "
   ]
  },
  {
   "cell_type": "code",
   "execution_count": 44,
   "metadata": {
    "id": "hBLt_xBQLy8E"
   },
   "outputs": [
    {
     "output_type": "stream",
     "name": "stdout",
     "text": [
      "Overwriting main.cpp\n"
     ]
    }
   ],
   "source": [
    "%%writefile main.cpp\n",
    "#include <iostream>\n",
    "#include <vector>\n",
    "#include <algorithm>\n",
    "#include <chrono>\n",
    "#include <ctime>\n",
    "#include <bits/stdc++.h>\n",
    "\n",
    "using namespace std;\n",
    "\n",
    "int main() {\n",
    "  int n;\n",
    "  cin >> n;\n",
    "  unsigned long long int maxNumber = 0LL;\n",
    "  unsigned long long int maxSecondNumber = 0LL;\n",
    "  unsigned long long int aux = 0LL;\n",
    "  auto start = chrono::high_resolution_clock::now();\n",
    "\n",
    "  for (int i = 0; i < n; ++i) {\n",
    "    cin >> aux;\n",
    "    if(maxNumber < aux){\n",
    "      maxSecondNumber = maxNumber;\n",
    "      maxNumber = aux;\n",
    "    } else if(maxSecondNumber < aux){\n",
    "      maxSecondNumber = aux;\n",
    "    }\n",
    "  }\n",
    "\n",
    "  unsigned long long int maxProductUltraFast = maxNumber * maxSecondNumber;\n",
    "  \n",
    "  auto stop = chrono::high_resolution_clock::now();\n",
    "  auto ms_int = chrono::duration_cast<chrono::milliseconds>(stop - start);\n",
    "  auto reading_time = ms_int.count();\n",
    "\n",
    "  cout << \"Result using Ultra Fast method: \" << maxProductUltraFast << endl;\n",
    "  cout << \"Execution time: \" << ms_int.count() << \" ms\" << endl;\n",
    "\n",
    "  return 0;\n",
    "}"
   ]
  },
  {
   "cell_type": "markdown",
   "metadata": {
    "id": "683gc3roHqzb"
   },
   "source": [
    "Test with inputs 1 and 2\n",
    "\n",
    "\n",
    " "
   ]
  },
  {
   "cell_type": "code",
   "execution_count": 45,
   "metadata": {
    "id": "b7d4LA8OIc2_"
   },
   "outputs": [
    {
     "output_type": "stream",
     "name": "stdout",
     "text": [
      "Result using Ultra Fast method: 90\n",
      "Execution time: 0 ms\n",
      "Result using Ultra Fast method: 40000000000\n",
      "Execution time: 0 ms\n"
     ]
    }
   ],
   "source": [
    "!g++ main.cpp -o main\n",
    "!./main < input1.txt\n",
    "!./main < input2.txt"
   ]
  },
  {
   "cell_type": "markdown",
   "metadata": {
    "id": "36Ugn1odIeJz"
   },
   "source": [
    "Test and time it with input 3"
   ]
  },
  {
   "cell_type": "code",
   "execution_count": 46,
   "metadata": {
    "id": "jDyMbCnxHqSN"
   },
   "outputs": [
    {
     "output_type": "stream",
     "name": "stdout",
     "text": [
      "Result using Ultra Fast method: 40000000000\nExecution time: 170 ms\n"
     ]
    }
   ],
   "source": [
    "!./main < input3.txt"
   ]
  },
  {
   "cell_type": "markdown",
   "metadata": {
    "id": "bhqiKQG6fjKM"
   },
   "source": [
    "20 stress tests "
   ]
  },
  {
   "cell_type": "code",
   "execution_count": 47,
   "metadata": {
    "id": "2KsiXKhALzwm"
   },
   "outputs": [
    {
     "output_type": "stream",
     "name": "stdout",
     "text": [
      "Result using Ultra Fast method: 39999800000\nExecution time: 126 ms\n"
     ]
    }
   ],
   "source": [
    "!./main < input4.txt"
   ]
  },
  {
   "cell_type": "markdown",
   "metadata": {
    "id": "fEXj8GHJH5p1"
   },
   "source": [
    "Count executed instructions in code and verify with inputs 1,2 and 3"
   ]
  },
  {
   "cell_type": "code",
   "execution_count": 48,
   "metadata": {
    "id": "LF1DHjKXIAsF"
   },
   "outputs": [
    {
     "output_type": "stream",
     "name": "stdout",
     "text": [
      "Overwriting main.cpp\n"
     ]
    }
   ],
   "source": [
    "%%writefile main.cpp\n",
    "#include <iostream>\n",
    "#include <vector>\n",
    "#include <algorithm>\n",
    "#include <chrono>\n",
    "#include <ctime>\n",
    "#include <bits/stdc++.h>\n",
    "\n",
    "using namespace std;\n",
    "\n",
    "int main() {\n",
    "  int n;                                                    //1\n",
    "  cin >> n;                                                 //1\n",
    "  unsigned long long int maxNumber = 0LL;                   //1\n",
    "  unsigned long long int maxSecondNumber = 0LL;             //1\n",
    "  unsigned long long int aux = 0LL;                         //1\n",
    "\n",
    "  for (int i = 0; i < n; ++i) {                             //n\n",
    "    cin >> aux;                                             //1\n",
    "    if(maxNumber < aux){                                    //1\n",
    "      maxSecondNumber = maxNumber;                          //1\n",
    "      maxNumber = aux;                                      //1\n",
    "    } else if(maxSecondNumber < aux){                       //1\n",
    "      maxSecondNumber = aux;                                //1\n",
    "    }\n",
    "  }\n",
    "\n",
    "  unsigned long long int maxProductUltraFast = maxNumber * maxSecondNumber;                          //1\n",
    "  cout << \"Result using Ultra Fast method: \" << maxProductUltraFast << endl;                         //1\n",
    "  return 0;\n",
    "}"
   ]
  },
  {
   "cell_type": "markdown",
   "metadata": {
    "id": "yae7sSm2IG9U"
   },
   "source": [
    "Calculate estimated time by instruction and number of instructions by second"
   ]
  },
  {
   "cell_type": "markdown",
   "metadata": {
    "id": "suouY7BYL2dz"
   },
   "source": [
    "maxProductUltraFast: 5+6n+2 = n"
   ]
  },
  {
   "cell_type": "markdown",
   "metadata": {
    "id": "rydCU4bFfrhG"
   },
   "source": [
    "## Python"
   ]
  },
  {
   "cell_type": "markdown",
   "metadata": {
    "id": "6n707zUXO0N0"
   },
   "source": [
    "Efficient cython file reading, string parsing, and array building\n",
    "\n",
    "https://stackoverflow.com/questions/37219875/efficient-cython-file-reading-string-parsing-and-array-building\n",
    "\n",
    "\n",
    "\n",
    "File PreProcessing With C and Cython\n",
    "\n",
    "https://github.com/EveryTimeIWill18/Cython_Repo/blob/master/FastFileProcessingWithCython.ipynb\n",
    "\n"
   ]
  },
  {
   "cell_type": "code",
   "execution_count": 49,
   "metadata": {
    "id": "xwq0n_b4L3ML"
   },
   "outputs": [
    {
     "output_type": "stream",
     "name": "stdout",
     "text": [
      "Writing main.py\n"
     ]
    }
   ],
   "source": [
    "%%writefile main.py\n",
    "import time\n",
    "\n",
    "def maxPairwiseProduct(numbers):\n",
    "    max_product = 0\n",
    "    aux_product = 0\n",
    "    n = len(numbers)\n",
    "    for first in range(n):\n",
    "        for second in range(1,n):\n",
    "            aux_product = numbers[first] * numbers[second]\n",
    "            if(max_product < aux_product):\n",
    "                max_product = aux_product\n",
    "    return max_product\n",
    "\n",
    "def maxPairwiseProductList(numbers):\n",
    "\tnumbers.sort()\n",
    "\treturn numbers[-1]*numbers[-2]\n",
    "\n",
    "def maxPairwiseProductFast(numbers):\n",
    "    n = len(numbers)\n",
    "    index1 = 0\n",
    "    for i in range(n):\n",
    "        if(numbers[i] > numbers[index1]):\n",
    "            index1 = i\n",
    "    \n",
    "    index2 = 0\n",
    "    for i in range(n):\n",
    "        if(numbers[i] != numbers[index1] and numbers[i] > numbers[index2]):\n",
    "            index2 = i\n",
    "    return numbers[index1]*numbers[index2]\n",
    "\n",
    "n = input()\n",
    "maxNumber = 0\n",
    "maxSecondNumber = 0\n",
    "aux = 0\n",
    "numbers = []\n",
    "\n",
    "start = time.time()\n",
    "\n",
    "for i in range(int(n)):\n",
    "    numbers.append(int(input()))\n",
    "    if(maxNumber < int(numbers[i])):\n",
    "        maxSecondNumber = maxNumber\n",
    "        maxNumber = numbers[i]\n",
    "    elif(maxSecondNumber < numbers[i]):\n",
    "        maxSecondNumber = numbers[i]\n",
    "\n",
    "maxProductUltraFast = maxNumber * maxSecondNumber\n",
    "\n",
    "stop = time.time()\n",
    "\n",
    "ms_int = stop-start\n",
    "\n",
    "reading_time = ms_int\n",
    "\n",
    "print(\"Result using Ultra Fast method:\",maxProductUltraFast)\n",
    "print(\"Execution time:\",str(ms_int),\"s\")\n",
    "print()\n",
    "\n",
    "start = time.time()\n",
    "print(\"Result using Product Fast method:\",maxPairwiseProductFast(numbers))\n",
    "stop = time.time()\n",
    "ms_int = stop-start\n",
    "print(\"Execution time:\",str(float(reading_time + ms_int)),\"s\")\n",
    "print()\n",
    "\n",
    "start = time.time()\n",
    "print(\"Result using List method:\",maxPairwiseProductList(numbers))\n",
    "stop = time.time()\n",
    "ms_int = stop-start\n",
    "print(\"Execution time:\",str(float(reading_time + ms_int)),\"s\")\n",
    "print()\n",
    "\n",
    "start = time.time()\n",
    "print(\"Result using naive method:\",maxPairwiseProduct(numbers))\n",
    "stop = time.time()\n",
    "ms_int = stop-start\n",
    "print(\"Execution time:\",str(float(reading_time + ms_int)),\"s\")"
   ]
  },
  {
   "cell_type": "code",
   "execution_count": 50,
   "metadata": {},
   "outputs": [
    {
     "output_type": "stream",
     "name": "stdout",
     "text": [
      "Result using Ultra Fast method: 40000000000\n",
      "Execution time: 1.1356544494628906 s\n",
      "\n",
      "Result using Product Fast method: 40000000000\n",
      "Execution time: 1.3899157047271729 s\n",
      "\n",
      "Result using List method: 40000000000\n",
      "Execution time: 1.3720262050628662 s\n",
      "\n"
     ]
    }
   ],
   "source": [
    "!timeout 1m python3 main.py < input3.txt"
   ]
  },
  {
   "cell_type": "code",
   "execution_count": 51,
   "metadata": {},
   "outputs": [
    {
     "output_type": "stream",
     "name": "stdout",
     "text": [
      "Traceback (most recent call last):\n  File \"main.py\", line 40, in <module>\n    numbers.append(int(input()))\nValueError: invalid literal for int() with base 10: '1 2 3 4 5 6 7 8 9 10 11 12 13 14 15 16 17 18 19 20 21 22 23 24 25 26 27 28 29 30 31 32 33 34 35 36 37 38 39 40 41 42 43 44 45 46 47 48 49 50 51 52 53 54 55 56 57 58 59 60 61 62 63 64 65 66 67 68 69 7\n"
     ]
    }
   ],
   "source": [
    "!timeout 1m python3 main.py < input4.txt"
   ]
  },
  {
   "cell_type": "markdown",
   "metadata": {},
   "source": [
    "### Cpython read"
   ]
  },
  {
   "cell_type": "code",
   "execution_count": 52,
   "metadata": {},
   "outputs": [
    {
     "output_type": "stream",
     "name": "stdout",
     "text": [
      "Defaulting to user installation because normal site-packages is not writeable\n",
      "Collecting cython\n",
      "  Downloading Cython-0.29.22-cp38-cp38-manylinux1_x86_64.whl (1.9 MB)\n",
      "\u001b[K     |████████████████████████████████| 1.9 MB 256 kB/s \n",
      "\u001b[?25hInstalling collected packages: cython\n",
      "Successfully installed cython-0.29.22\n"
     ]
    }
   ],
   "source": [
    "!pip3 install cython"
   ]
  },
  {
   "cell_type": "code",
   "execution_count": 53,
   "metadata": {},
   "outputs": [],
   "source": [
    "%load_ext Cython"
   ]
  },
  {
   "cell_type": "code",
   "execution_count": 54,
   "metadata": {},
   "outputs": [
    {
     "output_type": "stream",
     "name": "stderr",
     "text": [
      "warning: /home/robotdogger/.cache/ipython/cython/_cython_magic_b5cd44adb7a6171b03baf502bcff73d2.pyx:10:9: Function signature does not match previous declaration\n",
      "warning: /home/robotdogger/.cache/ipython/cython/_cython_magic_b5cd44adb7a6171b03baf502bcff73d2.pyx:12:14: Function signature does not match previous declaration\n",
      "warning: /home/robotdogger/.cache/ipython/cython/_cython_magic_b5cd44adb7a6171b03baf502bcff73d2.pyx:14:19: Function signature does not match previous declaration\n",
      "Result using Ultra Fast method: 1345294336\n",
      "Execution time: 0.04416489601135254 s\n"
     ]
    }
   ],
   "source": [
    "%%cython\n",
    "\n",
    "import numpy as np\n",
    "import cython\n",
    "import time\n",
    "\n",
    "from libc.stdio cimport *\n",
    " \n",
    "cdef extern from \"stdio.h\":\n",
    "    #FILE * fopen ( const char * filename, const char * mode )\n",
    "    FILE *fopen(const char *, const char *)\n",
    "    #int fclose ( FILE * stream )\n",
    "    int fclose(FILE *)\n",
    "    #ssize_t getline(char **lineptr, size_t *n, FILE *stream);\n",
    "    ssize_t getline(char **, size_t *, FILE *)\n",
    " \n",
    "def read_file(filename):\n",
    "    filename_byte_string = filename.encode(\"UTF-8\")\n",
    "    cdef char* fname = filename_byte_string\n",
    "    cdef int maxNumber = 0\n",
    "    cdef int maxSecondNumber = 0\n",
    "    cdef int aux = 0\n",
    "    cdef FILE* cfile\n",
    "    cfile = fopen(fname, \"rb\")\n",
    "    if cfile == NULL:\n",
    "        raise FileNotFoundError(2, \"No such file or directory: '%s'\" % filename)\n",
    " \n",
    "    cdef char * line = NULL\n",
    "    cdef size_t l = 0\n",
    "    cdef ssize_t read\n",
    " \n",
    "    while True:\n",
    "        read = getline(&line, &l, cfile)\n",
    "        aux = int(line)\n",
    "        if(maxNumber < aux):\n",
    "            maxSecondNumber = maxNumber\n",
    "            maxNumber = aux\n",
    "        elif(maxSecondNumber < aux):\n",
    "            maxSecondNumber = aux           \n",
    "        if read == -1: break\n",
    " \n",
    "        #yield line\n",
    " \n",
    "    fclose(cfile)\n",
    " \n",
    "    return maxSecondNumber*maxNumber\n",
    "\n",
    "maxNumber = 0\n",
    "maxSecondNumber = 0\n",
    "aux = 0\n",
    "\n",
    "start = time.time()\n",
    "numbers = read_file(\"input3.txt\")\n",
    "\n",
    "stop = time.time()\n",
    "\n",
    "ms_int = stop-start\n",
    "\n",
    "reading_time = ms_int\n",
    "\n",
    "print(\"Result using Ultra Fast method:\",numbers)\n",
    "print(\"Execution time:\",str(ms_int),\"s\")"
   ]
  },
  {
   "cell_type": "markdown",
   "metadata": {
    "id": "LkVxxlhl9H98"
   },
   "source": [
    "# Screenhsoots of the Coursera Submissions in C++ and Python"
   ]
  },
  {
   "cell_type": "markdown",
   "metadata": {},
   "source": [
    "# Sum Two Digits"
   ]
  },
  {
   "cell_type": "markdown",
   "metadata": {},
   "source": [
    "<img src=\"Coursera/Passed1.png\" alt=\"Sum two digits\"/>"
   ]
  },
  {
   "cell_type": "markdown",
   "metadata": {},
   "source": [
    "# Maximum Pairwise Product"
   ]
  },
  {
   "cell_type": "markdown",
   "metadata": {},
   "source": [
    "<img src=\"Coursera/Passed2.png\" alt=\"Maximum parwise product\"/>"
   ]
  }
 ],
 "metadata": {
  "colab": {
   "collapsed_sections": [],
   "name": "gjhernandezpAlgorithmicToolboxWeek1.ipynb",
   "provenance": []
  },
  "kernelspec": {
   "display_name": "Python 3",
   "language": "python",
   "name": "python3"
  },
  "language_info": {
   "codemirror_mode": {
    "name": "ipython",
    "version": 3
   },
   "file_extension": ".py",
   "mimetype": "text/x-python",
   "name": "python",
   "nbconvert_exporter": "python",
   "pygments_lexer": "ipython3",
   "version": "3.8.5"
  }
 },
 "nbformat": 4,
 "nbformat_minor": 1
}