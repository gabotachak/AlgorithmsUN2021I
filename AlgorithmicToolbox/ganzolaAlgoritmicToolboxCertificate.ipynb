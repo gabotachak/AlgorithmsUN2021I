{
 "cells": [
  {
   "cell_type": "markdown",
   "source": [
    "# Certificado Algorithmic Toolbox\n",
    "## Gabriel Andres Anzola Tachak\n",
    "\n",
    "### [LinkedIn](linkedin.com/in/ganzola)"
   ],
   "metadata": {}
  },
  {
   "cell_type": "markdown",
   "source": [
    "![Linkedin](Linkedin.png)\n",
    "\n",
    "![Coursera](Coursera.png)\n"
   ],
   "metadata": {}
  },
  {
   "cell_type": "markdown",
   "source": [],
   "metadata": {}
  }
 ],
 "metadata": {
  "orig_nbformat": 4,
  "language_info": {
   "name": "python"
  }
 },
 "nbformat": 4,
 "nbformat_minor": 2
}