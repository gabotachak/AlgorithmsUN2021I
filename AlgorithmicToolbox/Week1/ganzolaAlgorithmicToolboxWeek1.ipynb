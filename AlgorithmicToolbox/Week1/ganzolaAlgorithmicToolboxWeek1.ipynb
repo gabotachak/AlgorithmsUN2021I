{
 "cells": [
  {
   "cell_type": "markdown",
   "metadata": {
    "id": "N1ok_-56OjB1"
   },
   "source": [
    "# I Solving the Sum of Two Digits Programming Challenge"
   ]
  },
  {
   "cell_type": "code",
   "execution_count": 1,
   "metadata": {
    "colab": {
     "base_uri": "https://localhost:8080/"
    },
    "executionInfo": {
     "elapsed": 674,
     "status": "ok",
     "timestamp": 1616598863224,
     "user": {
      "displayName": "Gabriel Andres Anzola Tachak",
      "photoUrl": "https://lh3.googleusercontent.com/a-/AOh14Ggimsd88OMl1zPsnWxY0JIL7Yc9w4a_9AGwYgEk=s64",
      "userId": "13490027600634742036"
     },
     "user_tz": 300
    },
    "id": "2pGGf9BkPNIk",
    "outputId": "e57973e2-30d7-4e87-d6f3-08a659b2c0d7"
   },
   "outputs": [
    {
     "output_type": "stream",
     "name": "stdout",
     "text": [
      "Overwriting sum.cpp\n"
     ]
    }
   ],
   "source": [
    "%%writefile sum.cpp\n",
    "#include <iostream>\n",
    "\n",
    "int sum_of_two_digits(int first_digit, int second_digit) {\n",
    "    return first_digit + second_digit;\n",
    "}\n",
    "\n",
    "int main() {\n",
    "    int a = 0;\n",
    "    int b = 0;\n",
    "    std::cin >> a;\n",
    "    std::cin >> b;\n",
    "    std::cout << sum_of_two_digits(a, b);\n",
    "    return 0;\n",
    "}"
   ]
  },
  {
   "cell_type": "code",
   "execution_count": 2,
   "metadata": {
    "colab": {
     "base_uri": "https://localhost:8080/"
    },
    "executionInfo": {
     "elapsed": 12358,
     "status": "ok",
     "timestamp": 1616598874932,
     "user": {
      "displayName": "Gabriel Andres Anzola Tachak",
      "photoUrl": "https://lh3.googleusercontent.com/a-/AOh14Ggimsd88OMl1zPsnWxY0JIL7Yc9w4a_9AGwYgEk=s64",
      "userId": "13490027600634742036"
     },
     "user_tz": 300
    },
    "id": "0G3ZKOYAPXSU",
    "outputId": "e0f1088d-2393-40ac-9b26-65a477a1373e"
   },
   "outputs": [],
   "source": [
    "!g++ sum.cpp -o sum"
   ]
  },
  {
   "cell_type": "markdown",
   "metadata": {
    "id": "iNkG2HqfTl9c"
   },
   "source": [
    "### Test input output files"
   ]
  },
  {
   "cell_type": "code",
   "execution_count": 3,
   "metadata": {
    "colab": {
     "base_uri": "https://localhost:8080/"
    },
    "executionInfo": {
     "elapsed": 12343,
     "status": "ok",
     "timestamp": 1616598874933,
     "user": {
      "displayName": "Gabriel Andres Anzola Tachak",
      "photoUrl": "https://lh3.googleusercontent.com/a-/AOh14Ggimsd88OMl1zPsnWxY0JIL7Yc9w4a_9AGwYgEk=s64",
      "userId": "13490027600634742036"
     },
     "user_tz": 300
    },
    "id": "aTzU2efzMxly",
    "outputId": "a2cd5656-e200-4901-c0c5-e3e77ee697b7"
   },
   "outputs": [
    {
     "output_type": "stream",
     "name": "stdout",
     "text": [
      "Overwriting input1.txt\n"
     ]
    }
   ],
   "source": [
    "%%writefile input1.txt\n",
    "4 8"
   ]
  },
  {
   "cell_type": "markdown",
   "metadata": {
    "id": "pdkfsvs-T0Wr"
   },
   "source": []
  },
  {
   "cell_type": "code",
   "execution_count": 4,
   "metadata": {
    "colab": {
     "base_uri": "https://localhost:8080/"
    },
    "executionInfo": {
     "elapsed": 12332,
     "status": "ok",
     "timestamp": 1616598874935,
     "user": {
      "displayName": "Gabriel Andres Anzola Tachak",
      "photoUrl": "https://lh3.googleusercontent.com/a-/AOh14Ggimsd88OMl1zPsnWxY0JIL7Yc9w4a_9AGwYgEk=s64",
      "userId": "13490027600634742036"
     },
     "user_tz": 300
    },
    "id": "zBJ0Gc0NQRet",
    "outputId": "6557254e-b5a7-4c48-9e52-8879ffec0208"
   },
   "outputs": [
    {
     "output_type": "stream",
     "name": "stdout",
     "text": [
      "Overwriting output1.txt\n"
     ]
    }
   ],
   "source": [
    "%%writefile output1.txt\n",
    "12"
   ]
  },
  {
   "cell_type": "code",
   "execution_count": 5,
   "metadata": {
    "colab": {
     "base_uri": "https://localhost:8080/"
    },
    "executionInfo": {
     "elapsed": 12319,
     "status": "ok",
     "timestamp": 1616598874936,
     "user": {
      "displayName": "Gabriel Andres Anzola Tachak",
      "photoUrl": "https://lh3.googleusercontent.com/a-/AOh14Ggimsd88OMl1zPsnWxY0JIL7Yc9w4a_9AGwYgEk=s64",
      "userId": "13490027600634742036"
     },
     "user_tz": 300
    },
    "id": "IjEcIx63PJAN",
    "outputId": "04d8f5bc-93e1-4a83-920b-6e5d32d5244f"
   },
   "outputs": [
    {
     "output_type": "stream",
     "name": "stdout",
     "text": [
      "Overwriting input2.txt\n"
     ]
    }
   ],
   "source": [
    "%%writefile input2.txt\n",
    "-5 9"
   ]
  },
  {
   "cell_type": "code",
   "execution_count": 6,
   "metadata": {
    "colab": {
     "base_uri": "https://localhost:8080/"
    },
    "executionInfo": {
     "elapsed": 12307,
     "status": "ok",
     "timestamp": 1616598874937,
     "user": {
      "displayName": "Gabriel Andres Anzola Tachak",
      "photoUrl": "https://lh3.googleusercontent.com/a-/AOh14Ggimsd88OMl1zPsnWxY0JIL7Yc9w4a_9AGwYgEk=s64",
      "userId": "13490027600634742036"
     },
     "user_tz": 300
    },
    "id": "Up9gOrxURTmd",
    "outputId": "3665e120-3561-43af-be8b-a55c502cfc08"
   },
   "outputs": [
    {
     "output_type": "stream",
     "name": "stdout",
     "text": [
      "Overwriting output2.txt\n"
     ]
    }
   ],
   "source": [
    "%%writefile output2.txt\n",
    "4"
   ]
  },
  {
   "cell_type": "code",
   "execution_count": 7,
   "metadata": {
    "colab": {
     "base_uri": "https://localhost:8080/"
    },
    "executionInfo": {
     "elapsed": 12291,
     "status": "ok",
     "timestamp": 1616598874938,
     "user": {
      "displayName": "Gabriel Andres Anzola Tachak",
      "photoUrl": "https://lh3.googleusercontent.com/a-/AOh14Ggimsd88OMl1zPsnWxY0JIL7Yc9w4a_9AGwYgEk=s64",
      "userId": "13490027600634742036"
     },
     "user_tz": 300
    },
    "id": "PST6G-s-Pwgc",
    "outputId": "81291a80-98fd-438a-c6e1-34e2ceed77b5"
   },
   "outputs": [
    {
     "output_type": "stream",
     "name": "stdout",
     "text": [
      "12"
     ]
    }
   ],
   "source": [
    "!./sum < input1.txt"
   ]
  },
  {
   "cell_type": "code",
   "execution_count": 8,
   "metadata": {
    "colab": {
     "base_uri": "https://localhost:8080/"
    },
    "executionInfo": {
     "elapsed": 12560,
     "status": "ok",
     "timestamp": 1616598875222,
     "user": {
      "displayName": "Gabriel Andres Anzola Tachak",
      "photoUrl": "https://lh3.googleusercontent.com/a-/AOh14Ggimsd88OMl1zPsnWxY0JIL7Yc9w4a_9AGwYgEk=s64",
      "userId": "13490027600634742036"
     },
     "user_tz": 300
    },
    "id": "cKxZOjSlRfIN",
    "outputId": "fddb092e-1028-41d2-9e46-d55bf26ffc9b"
   },
   "outputs": [
    {
     "output_type": "stream",
     "name": "stdout",
     "text": [
      "4"
     ]
    }
   ],
   "source": [
    "!./sum < input2.txt"
   ]
  },
  {
   "cell_type": "markdown",
   "metadata": {
    "id": "Qw2TQWCCUwqk"
   },
   "source": [
    "### Comparing files with grep\n",
    "\n",
    "https://askubuntu.com/questions/546796/comparing-two-text-files"
   ]
  },
  {
   "cell_type": "code",
   "execution_count": 9,
   "metadata": {
    "executionInfo": {
     "elapsed": 12549,
     "status": "ok",
     "timestamp": 1616598875224,
     "user": {
      "displayName": "Gabriel Andres Anzola Tachak",
      "photoUrl": "https://lh3.googleusercontent.com/a-/AOh14Ggimsd88OMl1zPsnWxY0JIL7Yc9w4a_9AGwYgEk=s64",
      "userId": "13490027600634742036"
     },
     "user_tz": 300
    },
    "id": "WVIaAmMKU4QM"
   },
   "outputs": [],
   "source": [
    "!grep -xvFf output1.txt output1.txt "
   ]
  },
  {
   "cell_type": "code",
   "execution_count": 10,
   "metadata": {
    "colab": {
     "base_uri": "https://localhost:8080/"
    },
    "executionInfo": {
     "elapsed": 12534,
     "status": "ok",
     "timestamp": 1616598875226,
     "user": {
      "displayName": "Gabriel Andres Anzola Tachak",
      "photoUrl": "https://lh3.googleusercontent.com/a-/AOh14Ggimsd88OMl1zPsnWxY0JIL7Yc9w4a_9AGwYgEk=s64",
      "userId": "13490027600634742036"
     },
     "user_tz": 300
    },
    "id": "MQU8gPPjQuYO",
    "outputId": "c1ac452e-caf7-46de-b159-bc00aedbb2ee"
   },
   "outputs": [
    {
     "output_type": "stream",
     "name": "stdout",
     "text": [
      "4\n"
     ]
    }
   ],
   "source": [
    "!grep -xvFf output1.txt output2.txt "
   ]
  },
  {
   "cell_type": "code",
   "execution_count": 11,
   "metadata": {
    "colab": {
     "base_uri": "https://localhost:8080/"
    },
    "executionInfo": {
     "elapsed": 12793,
     "status": "ok",
     "timestamp": 1616598875496,
     "user": {
      "displayName": "Gabriel Andres Anzola Tachak",
      "photoUrl": "https://lh3.googleusercontent.com/a-/AOh14Ggimsd88OMl1zPsnWxY0JIL7Yc9w4a_9AGwYgEk=s64",
      "userId": "13490027600634742036"
     },
     "user_tz": 300
    },
    "id": "jYL9OuYBTD_l",
    "outputId": "7490a9be-1303-45d8-f430-e3ded32ac7be"
   },
   "outputs": [
    {
     "output_type": "stream",
     "name": "stdout",
     "text": [
      "12\n"
     ]
    }
   ],
   "source": [
    "!grep -xvFf output2.txt output1.txt "
   ]
  },
  {
   "cell_type": "code",
   "execution_count": 12,
   "metadata": {
    "executionInfo": {
     "elapsed": 13170,
     "status": "ok",
     "timestamp": 1616598875878,
     "user": {
      "displayName": "Gabriel Andres Anzola Tachak",
      "photoUrl": "https://lh3.googleusercontent.com/a-/AOh14Ggimsd88OMl1zPsnWxY0JIL7Yc9w4a_9AGwYgEk=s64",
      "userId": "13490027600634742036"
     },
     "user_tz": 300
    },
    "id": "Jlja0Xm4TX9M"
   },
   "outputs": [],
   "source": [
    "!./sum < input1.txt> ctest1.txt\n",
    "!grep -xvFf output1.txt ctest1.txt"
   ]
  },
  {
   "cell_type": "code",
   "execution_count": 13,
   "metadata": {
    "executionInfo": {
     "elapsed": 13470,
     "status": "ok",
     "timestamp": 1616598876182,
     "user": {
      "displayName": "Gabriel Andres Anzola Tachak",
      "photoUrl": "https://lh3.googleusercontent.com/a-/AOh14Ggimsd88OMl1zPsnWxY0JIL7Yc9w4a_9AGwYgEk=s64",
      "userId": "13490027600634742036"
     },
     "user_tz": 300
    },
    "id": "g9OIUZA_QLCQ"
   },
   "outputs": [],
   "source": [
    "!./sum < input2.txt > ctest2.txt\n",
    "!grep -xvFf output2.txt ctest2.txt"
   ]
  },
  {
   "cell_type": "markdown",
   "metadata": {
    "id": "3BgOaDjUVJk6"
   },
   "source": [
    "## Python"
   ]
  },
  {
   "cell_type": "code",
   "execution_count": 14,
   "metadata": {
    "colab": {
     "base_uri": "https://localhost:8080/"
    },
    "executionInfo": {
     "elapsed": 13456,
     "status": "ok",
     "timestamp": 1616598876184,
     "user": {
      "displayName": "Gabriel Andres Anzola Tachak",
      "photoUrl": "https://lh3.googleusercontent.com/a-/AOh14Ggimsd88OMl1zPsnWxY0JIL7Yc9w4a_9AGwYgEk=s64",
      "userId": "13490027600634742036"
     },
     "user_tz": 300
    },
    "id": "DBvl-T0CTN_8",
    "outputId": "626919c7-6b93-4a38-ee12-5a92870874e0"
   },
   "outputs": [
    {
     "output_type": "stream",
     "name": "stdout",
     "text": [
      "Overwriting sum.py\n"
     ]
    }
   ],
   "source": [
    "%%writefile sum.py\n",
    "# python3\n",
    "\n",
    "\n",
    "def sum_of_two_digits(first_digit, second_digit):\n",
    "    return first_digit + second_digit\n",
    "\n",
    "if __name__ == '__main__':\n",
    "    a, b = map(int, input().split())\n",
    "    print(sum_of_two_digits(a, b))"
   ]
  },
  {
   "cell_type": "code",
   "execution_count": 15,
   "metadata": {
    "executionInfo": {
     "elapsed": 29098,
     "status": "ok",
     "timestamp": 1616598891855,
     "user": {
      "displayName": "Gabriel Andres Anzola Tachak",
      "photoUrl": "https://lh3.googleusercontent.com/a-/AOh14Ggimsd88OMl1zPsnWxY0JIL7Yc9w4a_9AGwYgEk=s64",
      "userId": "13490027600634742036"
     },
     "user_tz": 300
    },
    "id": "cocFbPRTWrqt"
   },
   "outputs": [],
   "source": [
    "!python3 sum.py  < input1.txt> ptest1.txt\n",
    "!grep -xvFf output1.txt ptest1.txt"
   ]
  },
  {
   "cell_type": "code",
   "execution_count": 16,
   "metadata": {
    "executionInfo": {
     "elapsed": 29535,
     "status": "ok",
     "timestamp": 1616598892303,
     "user": {
      "displayName": "Gabriel Andres Anzola Tachak",
      "photoUrl": "https://lh3.googleusercontent.com/a-/AOh14Ggimsd88OMl1zPsnWxY0JIL7Yc9w4a_9AGwYgEk=s64",
      "userId": "13490027600634742036"
     },
     "user_tz": 300
    },
    "id": "MorKTa-XXASN"
   },
   "outputs": [],
   "source": [
    "!python3 sum.py  < input2.txt> ptest2.txt\n",
    "!grep -xvFf output2.txt ptest2.txt"
   ]
  },
  {
   "cell_type": "markdown",
   "metadata": {
    "id": "uvP-mOubW_5F"
   },
   "source": [
    "# II Solving The Maximum Pairwise Product Programming Challenge in C++"
   ]
  },
  {
   "cell_type": "markdown",
   "metadata": {
    "id": "C12yoFR6Xonl"
   },
   "source": [
    "## C++"
   ]
  },
  {
   "cell_type": "code",
   "execution_count": 17,
   "metadata": {
    "colab": {
     "base_uri": "https://localhost:8080/"
    },
    "executionInfo": {
     "elapsed": 499,
     "status": "ok",
     "timestamp": 1616600064046,
     "user": {
      "displayName": "Gabriel Andres Anzola Tachak",
      "photoUrl": "https://lh3.googleusercontent.com/a-/AOh14Ggimsd88OMl1zPsnWxY0JIL7Yc9w4a_9AGwYgEk=s64",
      "userId": "13490027600634742036"
     },
     "user_tz": 300
    },
    "id": "YL4qJX3tXxdd",
    "outputId": "e47b945a-f023-484a-96d6-68f217503097"
   },
   "outputs": [
    {
     "output_type": "stream",
     "name": "stdout",
     "text": [
      "Overwriting max_pairwise_product1.cpp\n"
     ]
    }
   ],
   "source": [
    "%%writefile max_pairwise_product1.cpp\n",
    "#include <iostream>\n",
    "#include <vector>\n",
    "#include <algorithm>\n",
    "\n",
    "int MaxPairwiseProduct(const std::vector<int>& numbers) {\n",
    "    int max_product = 0;\n",
    "    int n = numbers.size();\n",
    "\n",
    "    for (int first = 0; first < n; ++first) {\n",
    "        for (int second = first + 1; second < n; ++second) {\n",
    "            max_product = std::max(max_product,\n",
    "                numbers[first] * numbers[second]);\n",
    "        }\n",
    "    }\n",
    "\n",
    "    return max_product;\n",
    "}\n",
    "\n",
    "int main() {\n",
    "    int n;\n",
    "    std::cin >> n;\n",
    "    std::vector<int> numbers(n);\n",
    "    for (int i = 0; i < n; ++i) {\n",
    "        std::cin >> numbers[i];\n",
    "    }\n",
    "\n",
    "    std::cout << MaxPairwiseProduct(numbers) << \"\\n\";\n",
    "    return 0;\n",
    "}\n"
   ]
  },
  {
   "cell_type": "code",
   "execution_count": 18,
   "metadata": {
    "colab": {
     "base_uri": "https://localhost:8080/"
    },
    "executionInfo": {
     "elapsed": 24580,
     "status": "ok",
     "timestamp": 1616600095052,
     "user": {
      "displayName": "Gabriel Andres Anzola Tachak",
      "photoUrl": "https://lh3.googleusercontent.com/a-/AOh14Ggimsd88OMl1zPsnWxY0JIL7Yc9w4a_9AGwYgEk=s64",
      "userId": "13490027600634742036"
     },
     "user_tz": 300
    },
    "id": "KGxaEjvWX__O",
    "outputId": "2b8c6581-e2e8-4495-8629-43587b18138a"
   },
   "outputs": [],
   "source": [
    "!g++ max_pairwise_product1.cpp -o max_pairwise_product1"
   ]
  },
  {
   "cell_type": "markdown",
   "metadata": {
    "id": "IeZ3kTjpYmR9"
   },
   "source": [
    "### Test 1: lagest input numbers 200000 200000 in the input"
   ]
  },
  {
   "cell_type": "code",
   "execution_count": 19,
   "metadata": {
    "id": "LQNlZqaqYt7U"
   },
   "outputs": [
    {
     "output_type": "stream",
     "name": "stdout",
     "text": [
      "Overwriting input1.txt\n"
     ]
    }
   ],
   "source": [
    "%%writefile input1.txt\n",
    "5\n",
    "1 3 200000 9 200000 23"
   ]
  },
  {
   "cell_type": "code",
   "execution_count": 20,
   "metadata": {
    "id": "2Wad2VZUZDxR"
   },
   "outputs": [
    {
     "output_type": "stream",
     "name": "stdout",
     "text": [
      "1345294336\n"
     ]
    }
   ],
   "source": [
    "!./max_pairwise_product1 < input1.txt"
   ]
  },
  {
   "cell_type": "code",
   "execution_count": 21,
   "metadata": {
    "id": "MPcmsxiQZSfE"
   },
   "outputs": [
    {
     "output_type": "stream",
     "name": "stdout",
     "text": [
      "Overwriting max_pairwise_product2.cpp\n"
     ]
    }
   ],
   "source": [
    "%%writefile max_pairwise_product2.cpp\n",
    "#include <iostream>\n",
    "#include <vector>\n",
    "#include <algorithm>\n",
    "\n",
    "long long MaxPairwiseProduct(const std::vector<int>& numbers) {\n",
    "    long long max_product = 0LL;\n",
    "\tlong long aux_product = 0LL;\n",
    "    int n = numbers.size();\n",
    "\n",
    "    for (int first = 0; first < n; ++first) {\n",
    "        for (int second = first + 1; second < n; ++second) {\n",
    "\t\t\t       aux_product =  (long long) numbers[first] * numbers[second];\n",
    "            if ( max_product < aux_product)  {\n",
    "\t\t\t\t        max_product = aux_product;\n",
    "             }\n",
    "        }\n",
    "    }\n",
    "\n",
    "    return max_product;\n",
    "}\n",
    "\n",
    "int main() {\n",
    "    int n;\n",
    "    std::cin >> n;\n",
    "    std::vector<int> numbers(n);\n",
    "    for (int i = 0; i < n; ++i) {\n",
    "        std::cin >> numbers[i];\n",
    "    }\n",
    "\n",
    "    std::cout << MaxPairwiseProduct(numbers) << \"\\n\";\n",
    "    return 0;\n",
    "}\n"
   ]
  },
  {
   "cell_type": "code",
   "execution_count": 22,
   "metadata": {
    "id": "I5pCeOG1Zm7s"
   },
   "outputs": [
    {
     "output_type": "stream",
     "name": "stdout",
     "text": [
      "40000000000\n"
     ]
    }
   ],
   "source": [
    "!g++ max_pairwise_product2.cpp -o max_pairwise_product2\n",
    "!./max_pairwise_product2 < input1.txt"
   ]
  },
  {
   "cell_type": "markdown",
   "metadata": {
    "id": "9z9yr5QkeyJF"
   },
   "source": [
    "### Test 2  generate a tests file with the maximun n 200000 numbres and measure time"
   ]
  },
  {
   "cell_type": "code",
   "execution_count": 23,
   "metadata": {
    "id": "oLiMjbAIfPlX"
   },
   "outputs": [],
   "source": [
    "import random\n",
    "from os import remove\n",
    "\n",
    "try:\n",
    "\tremove(\"input3.txt\")\n",
    "except OSError:\n",
    "\tpass\n",
    "\n",
    "n = 200000\n",
    "f = open(\"input3.txt\", \"a\")\n",
    "f.write(str(n+2)+\"\\n\")\n",
    "f.write(\"200000\\n\")\n",
    "for i in range(n):\n",
    "\tr1 = random.randint(0, 200000)\n",
    "\tf.write(str(r1)+\"\\n\")\n",
    "f.write(\"200000\")\n",
    "f.close()"
   ]
  },
  {
   "cell_type": "code",
   "execution_count": 24,
   "metadata": {},
   "outputs": [],
   "source": [
    "import random\n",
    "from os import remove\n",
    "\n",
    "try:\n",
    "\tremove(\"input4.txt\")\n",
    "except OSError:\n",
    "\tpass\n",
    "\n",
    "n = 200\n",
    "f = open(\"input4.txt\", \"a\")\n",
    "f.write(str(n+2)+\"\\n\")\n",
    "f.write(\"200000\\n\")\n",
    "for i in range(n):\n",
    "\tr1 = random.randint(0, 200000)\n",
    "\tf.write(str(r1)+\"\\n\")\n",
    "f.write(\"200000\")\n",
    "f.close()"
   ]
  },
  {
   "cell_type": "markdown",
   "metadata": {
    "id": "sc9nOLQrfTm0"
   },
   "source": [
    "### Efficient solution "
   ]
  },
  {
   "cell_type": "markdown",
   "metadata": {
    "id": "bhqiKQG6fjKM"
   },
   "source": [
    "Stress tests "
   ]
  },
  {
   "cell_type": "code",
   "execution_count": 25,
   "metadata": {},
   "outputs": [
    {
     "output_type": "stream",
     "name": "stdout",
     "text": [
      "Overwriting main.cpp\n"
     ]
    }
   ],
   "source": [
    "%%writefile main.cpp\n",
    "#include <iostream>\n",
    "#include <vector>\n",
    "#include <algorithm>\n",
    "#include <chrono>\n",
    "#include <ctime>\n",
    "#include <bits/stdc++.h>\n",
    "\n",
    "using namespace std;\n",
    "\n",
    "long long maxPairwiseProduct(const vector<unsigned long long int>& numbers) {\n",
    "  long long max_product = 0LL;\n",
    "  long long aux_product = 0LL;\n",
    "  int n = numbers.size();\n",
    "\n",
    "  for (int first = 0; first < n; ++first) {\n",
    "    for (int second = first + 1; second < n; ++second) {\n",
    "      aux_product =  (long long) numbers[first] * numbers[second];\n",
    "      if ( max_product < aux_product)  {\n",
    "        max_product = aux_product;\n",
    "      }\n",
    "    }\n",
    "  }\n",
    "  return max_product;\n",
    "}\n",
    "\n",
    "long long maxPairwiseProductList(vector<unsigned long long int>& numbers){\n",
    "  sort(numbers.begin(), numbers.end());\n",
    "  return numbers[numbers.size()-1]*numbers[numbers.size()-2];\n",
    "}\n",
    "\n",
    "long long maxPairwiseProductFast(vector<unsigned long long int>& numbers){  \n",
    "  long long n = numbers.size();\n",
    "  int index1 = 0;\n",
    "  int index2 = 0;\n",
    "    \n",
    "  for(int i= 1; i < n; i++){\n",
    "    if(numbers[i] > numbers[index1]){\n",
    "      index1 = i;\n",
    "    }\n",
    "  }\n",
    "    \n",
    "  for(int i= 1; i < n; i++){\n",
    "    if(i!=index1 && numbers[i]>numbers[index2]){\n",
    "      index2 = i;\n",
    "    }\n",
    "  } \n",
    "    \n",
    "  return numbers[index1]*numbers[index2];\n",
    "}\n",
    "\n",
    "int main() {\n",
    "  int n;\n",
    "  cin >> n;\n",
    "  unsigned long long int maxNumber = 0LL;\n",
    "  unsigned long long int maxSecondNumber = 0LL;\n",
    "  unsigned long long int aux = 0LL;\n",
    "  vector <unsigned long long int> numbers (n);\n",
    "\n",
    "  auto start = chrono::high_resolution_clock::now();\n",
    "\n",
    "  for (int i = 0; i < n; ++i) {\n",
    "    cin >> numbers[i];;\n",
    "    if(maxNumber < numbers[i]){\n",
    "      maxSecondNumber = maxNumber;\n",
    "      maxNumber = numbers[i];\n",
    "    } else if(maxSecondNumber < numbers[i]){\n",
    "      maxSecondNumber = numbers[i];\n",
    "    }\n",
    "  }\n",
    "\n",
    "  unsigned long long int maxProductUltraFast = maxNumber * maxSecondNumber;\n",
    "  \n",
    "  auto stop = chrono::high_resolution_clock::now();\n",
    "\n",
    "  auto ms_int = chrono::duration_cast<chrono::milliseconds>(stop - start);\n",
    "  auto reading_time = ms_int.count();\n",
    "\n",
    "  cout << \"Result using Ultra Fast method: \" << maxProductUltraFast << endl;\n",
    "  cout << \"Execution time: \" << ms_int.count() << \" ms\" << endl;\n",
    "\n",
    "  cout << endl;\n",
    "\n",
    "  start = chrono::high_resolution_clock::now();\n",
    "  cout << \"Result using Fast method: \" << maxPairwiseProductFast(numbers) << endl;\n",
    "  stop = chrono::high_resolution_clock::now();\n",
    "  ms_int = chrono::duration_cast<chrono::milliseconds>(stop - start);\n",
    "  cout << \"Execution time: \" << reading_time + ms_int.count() << \" ms\" << endl;\n",
    "\n",
    "  cout << endl;\n",
    "  \n",
    "  start = chrono::high_resolution_clock::now();\n",
    "  cout << \"Result using List method: \" << maxPairwiseProductList(numbers) << endl;\n",
    "  stop = chrono::high_resolution_clock::now();\n",
    "  ms_int = chrono::duration_cast<chrono::milliseconds>(stop - start);\n",
    "  cout << \"Execution time: \" << reading_time + ms_int.count() << \" ms\" << endl;\n",
    "\n",
    "  cout << endl;\n",
    "\n",
    "  start = chrono::high_resolution_clock::now();\n",
    "  cout << \"Result using naive method: \" << maxPairwiseProduct(numbers) << endl;\n",
    "  stop = chrono::high_resolution_clock::now();\n",
    "  ms_int = chrono::duration_cast<chrono::milliseconds>(stop - start);\n",
    "  cout << \"Execution time: \" << reading_time + ms_int.count() << \" ms\" << endl;\n",
    "  return 0;\n",
    "}"
   ]
  },
  {
   "cell_type": "code",
   "execution_count": 26,
   "metadata": {},
   "outputs": [
    {
     "output_type": "stream",
     "name": "stdout",
     "text": [
      "Result using Ultra Fast method: 40000000000\nExecution time: 0 ms\n\nResult using Fast method: 40000000000\nExecution time: 0 ms\n\nResult using List method: 40000000000\nExecution time: 0 ms\n\nResult using naive method: 40000000000\nExecution time: 0 ms\n"
     ]
    }
   ],
   "source": [
    "!g++ main.cpp -o main\n",
    "!./main < input1.txt"
   ]
  },
  {
   "cell_type": "markdown",
   "metadata": {
    "id": "yBYnp6KjpxU0"
   },
   "source": [
    "Measure with test file of the maximun n 200000 numbres "
   ]
  },
  {
   "cell_type": "code",
   "execution_count": 27,
   "metadata": {},
   "outputs": [
    {
     "output_type": "stream",
     "name": "stdout",
     "text": [
      "Result using Ultra Fast method: 40000000000\n",
      "Execution time: 68 ms\n",
      "\n",
      "Result using Fast method: 40000000000\n",
      "Execution time: 70 ms\n",
      "\n",
      "Result using List method: 40000000000\n",
      "Execution time: 160 ms\n",
      "\n"
     ]
    }
   ],
   "source": [
    "!timeout 1m ./main < input3.txt"
   ]
  },
  {
   "cell_type": "markdown",
   "metadata": {
    "id": "rydCU4bFfrhG"
   },
   "source": [
    "## Python"
   ]
  },
  {
   "cell_type": "code",
   "execution_count": 28,
   "metadata": {},
   "outputs": [
    {
     "output_type": "stream",
     "name": "stdout",
     "text": [
      "Overwriting main.py\n"
     ]
    }
   ],
   "source": [
    "%%writefile main.py\n",
    "import time\n",
    "\n",
    "def maxPairwiseProduct(numbers):\n",
    "    max_product = 0\n",
    "    aux_product = 0\n",
    "    n = len(numbers)\n",
    "    for first in range(n):\n",
    "        for second in range(1,n):\n",
    "            aux_product = numbers[first] * numbers[second]\n",
    "            if(max_product < aux_product):\n",
    "                max_product = aux_product\n",
    "    return max_product\n",
    "\n",
    "def maxPairwiseProductList(numbers):\n",
    "\tnumbers.sort()\n",
    "\treturn numbers[-1]*numbers[-2]\n",
    "\n",
    "def maxPairwiseProductFast(numbers):\n",
    "    n = len(numbers)\n",
    "    index1 = 0\n",
    "    for i in range(n):\n",
    "        if(numbers[i] > numbers[index1]):\n",
    "            index1 = i\n",
    "    \n",
    "    index2 = 0\n",
    "    for i in range(n):\n",
    "        if(numbers[i] != numbers[index1] and numbers[i] > numbers[index2]):\n",
    "            index2 = i\n",
    "    return numbers[index1]*numbers[index2]\n",
    "\n",
    "n = input()\n",
    "maxNumber = 0\n",
    "maxSecondNumber = 0\n",
    "aux = 0\n",
    "numbers = []\n",
    "\n",
    "start = time.time()\n",
    "\n",
    "for i in range(int(n)):\n",
    "    numbers.append(int(input()))\n",
    "    if(maxNumber < int(numbers[i])):\n",
    "        maxSecondNumber = maxNumber\n",
    "        maxNumber = numbers[i]\n",
    "    elif(maxSecondNumber < numbers[i]):\n",
    "        maxSecondNumber = numbers[i]\n",
    "\n",
    "maxProductUltraFast = maxNumber * maxSecondNumber\n",
    "\n",
    "stop = time.time()\n",
    "\n",
    "ms_int = stop-start\n",
    "\n",
    "reading_time = ms_int\n",
    "\n",
    "print(\"Result using Ultra Fast method:\",maxProductUltraFast)\n",
    "print(\"Execution time:\",str(ms_int),\"s\")\n",
    "print()\n",
    "\n",
    "start = time.time()\n",
    "print(\"Result using Product Fast method:\",maxPairwiseProductFast(numbers))\n",
    "stop = time.time()\n",
    "ms_int = stop-start\n",
    "print(\"Execution time:\",str(float(reading_time + ms_int)),\"s\")\n",
    "print()\n",
    "\n",
    "start = time.time()\n",
    "print(\"Result using List method:\",maxPairwiseProductList(numbers))\n",
    "stop = time.time()\n",
    "ms_int = stop-start\n",
    "print(\"Execution time:\",str(float(reading_time + ms_int)),\"s\")\n",
    "print()\n",
    "\n",
    "start = time.time()\n",
    "print(\"Result using naive method:\",maxPairwiseProduct(numbers))\n",
    "stop = time.time()\n",
    "ms_int = stop-start\n",
    "print(\"Execution time:\",str(float(reading_time + ms_int)),\"s\")"
   ]
  },
  {
   "cell_type": "code",
   "execution_count": 29,
   "metadata": {},
   "outputs": [
    {
     "output_type": "stream",
     "name": "stdout",
     "text": [
      "Result using Ultra Fast method: 40000000000\nExecution time: 0.0008339881896972656 s\n\nResult using Product Fast method: 40000000000\nExecution time: 0.0010352134704589844 s\n\nResult using List method: 40000000000\nExecution time: 0.0009410381317138672 s\n\nResult using naive method: 40000000000\nExecution time: 0.005910396575927734 s\n"
     ]
    }
   ],
   "source": [
    "!timeout 1m python3 main.py < input4.txt"
   ]
  },
  {
   "cell_type": "code",
   "execution_count": 30,
   "metadata": {},
   "outputs": [
    {
     "output_type": "stream",
     "name": "stdout",
     "text": [
      "Result using Ultra Fast method: 40000000000\n",
      "Execution time: 0.42838525772094727 s\n",
      "\n",
      "Result using Product Fast method: 40000000000\n",
      "Execution time: 0.47445225715637207 s\n",
      "\n",
      "Result using List method: 40000000000\n",
      "Execution time: 0.48430395126342773 s\n",
      "\n"
     ]
    }
   ],
   "source": [
    "!timeout 1m python3 main.py < input3.txt"
   ]
  }
 ],
 "metadata": {
  "colab": {
   "collapsed_sections": [],
   "name": "gjhernandezpAlgorithmicToolboxWeek1.ipynb",
   "provenance": []
  },
  "kernelspec": {
   "display_name": "Python 3",
   "language": "python",
   "name": "python3"
  },
  "language_info": {
   "codemirror_mode": {
    "name": "ipython",
    "version": 3
   },
   "file_extension": ".py",
   "mimetype": "text/x-python",
   "name": "python",
   "nbconvert_exporter": "python",
   "pygments_lexer": "ipython3",
   "version": "3.8.5"
  }
 },
 "nbformat": 4,
 "nbformat_minor": 1
}