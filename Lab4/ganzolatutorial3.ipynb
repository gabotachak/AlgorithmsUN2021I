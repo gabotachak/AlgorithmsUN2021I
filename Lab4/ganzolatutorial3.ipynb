{
 "cells": [
  {
   "source": [
    "# Introduction to Financial Python\n",
    "## Functions and Objective-Oriented Programming"
   ],
   "cell_type": "markdown",
   "metadata": {}
  },
  {
   "source": [
    "### Introduction\n",
    "\n",
    "In the last tutorial we introduced logical operations, loops and list comprehension. We will introduce functions and object-oriented programming in this chapter, which will enable us to build complex algorithms in more flexible ways."
   ],
   "cell_type": "markdown",
   "metadata": {}
  },
  {
   "source": [
    "### Functions\n",
    "\n",
    "A function is a reusable block of code. We can use a function to output a value, or do anything else we want. We can easily define our own function by using the keyword \"def\"."
   ],
   "cell_type": "markdown",
   "metadata": {}
  },
  {
   "cell_type": "code",
   "execution_count": 1,
   "metadata": {},
   "outputs": [
    {
     "output_type": "stream",
     "name": "stdout",
     "text": [
      "6\n50\n"
     ]
    }
   ],
   "source": [
    "def product(x,y):\n",
    "    return x*y\n",
    "print(product(2,3))\n",
    "print(product(5,10))"
   ]
  },
  {
   "source": [
    "The keyword \"def\" is followed by the function name and the parenthesized list of formal parameters. The statements that form the body of the function start at the next line, and must be indented. The product() function above has \"x\" and \"y\" as its parameters. A function doesn't necessarily have parameters:"
   ],
   "cell_type": "markdown",
   "metadata": {}
  },
  {
   "cell_type": "code",
   "execution_count": 2,
   "metadata": {},
   "outputs": [
    {
     "output_type": "stream",
     "name": "stdout",
     "text": [
      "Welcome to QuantConnect\n"
     ]
    }
   ],
   "source": [
    "def say_hi():\n",
    "    print('Welcome to QuantConnect')\n",
    "say_hi()"
   ]
  },
  {
   "source": [
    "### Built-in Function\n",
    "\n",
    "```range()``` is a function that creates a list containing an arithmetic sequence. It's often used in for loops. The arguments must be integers. If the \"step\" argument is omitted, it defaults to 1."
   ],
   "cell_type": "markdown",
   "metadata": {}
  },
  {
   "cell_type": "code",
   "execution_count": 3,
   "metadata": {},
   "outputs": [
    {
     "output_type": "stream",
     "name": "stdout",
     "text": [
      "range(0, 10)\nrange(1, 11)\nrange(1, 11, 2)\n"
     ]
    }
   ],
   "source": [
    "print(range(10))\n",
    "print(range(1,11))\n",
    "print(range(1,11,2))"
   ]
  },
  {
   "source": [
    "```len()``` is another function used together with ```range()``` to create a for loop. This function returns the length of an object. The argument must be a sequence or a collection."
   ],
   "cell_type": "markdown",
   "metadata": {}
  },
  {
   "cell_type": "code",
   "execution_count": 4,
   "metadata": {},
   "outputs": [
    {
     "output_type": "stream",
     "name": "stdout",
     "text": [
      "The length of tickers is 8\nAAPL\nGOOG\nIBM\nFB\nF\nV\nG\nGE\n"
     ]
    }
   ],
   "source": [
    "tickers = ['AAPL','GOOG','IBM','FB','F','V', 'G', 'GE']\n",
    "print('The length of tickers is {}'.format(len(tickers)))\n",
    "for i in range(len(tickers)):\n",
    "    print(tickers[i])"
   ]
  },
  {
   "source": [
    "##### Note: If you want to print only the tickers without those numbers, then simply write \"for ticker in tickers: print ticker\"\n",
    "\n",
    "```map()``` is a function that applies a specific function to every item of a sequence or collection, and returns a list of the results."
   ],
   "cell_type": "markdown",
   "metadata": {}
  },
  {
   "cell_type": "code",
   "execution_count": 5,
   "metadata": {},
   "outputs": [
    {
     "output_type": "stream",
     "name": "stdout",
     "text": [
      "[4, 4, 3, 2, 1, 1, 1, 2]\n"
     ]
    }
   ],
   "source": [
    "tickers = ['AAPL','GOOG','IBM','FB','F','V', 'G', 'GE']\n",
    "print(list(map(len,tickers)))"
   ]
  },
  {
   "source": [
    "The **lambda operator** is a way to create small anonymous functions. These functions are just needed where they have been created. For example:"
   ],
   "cell_type": "markdown",
   "metadata": {}
  },
  {
   "cell_type": "code",
   "execution_count": 6,
   "metadata": {},
   "outputs": [
    {
     "output_type": "execute_result",
     "data": {
      "text/plain": [
       "[0, 1, 4, 9, 16, 25, 36, 49, 64, 81]"
      ]
     },
     "metadata": {},
     "execution_count": 6
    }
   ],
   "source": [
    "list(map(lambda x: x**2, range(10)))"
   ]
  },
  {
   "source": [
    "```map()``` can be applied to more than one list. The lists have to have the same length."
   ],
   "cell_type": "markdown",
   "metadata": {}
  },
  {
   "cell_type": "code",
   "execution_count": 7,
   "metadata": {},
   "outputs": [
    {
     "output_type": "execute_result",
     "data": {
      "text/plain": [
       "[6, 6, 6, 6, 6]"
      ]
     },
     "metadata": {},
     "execution_count": 7
    }
   ],
   "source": [
    "list(map(lambda x, y: x+y, [1,2,3,4,5],[5,4,3,2,1]))"
   ]
  },
  {
   "source": [
    "```sorted()``` takes a list or set and returns a new sorted list:"
   ],
   "cell_type": "markdown",
   "metadata": {}
  },
  {
   "cell_type": "code",
   "execution_count": 8,
   "metadata": {},
   "outputs": [
    {
     "output_type": "execute_result",
     "data": {
      "text/plain": [
       "[1, 2, 3, 4, 5]"
      ]
     },
     "metadata": {},
     "execution_count": 8
    }
   ],
   "source": [
    "sorted([5,2,3,4,1])"
   ]
  },
  {
   "source": [
    "We can add a \"key\" parameter to specify a function to be called on each list element prior to making comparisons. For example:"
   ],
   "cell_type": "markdown",
   "metadata": {}
  },
  {
   "cell_type": "code",
   "execution_count": 9,
   "metadata": {},
   "outputs": [
    {
     "output_type": "execute_result",
     "data": {
      "text/plain": [
       "[('MSFT', 69), ('WMT', 75.32), ('AAPL', 144.09), ('FB', 150), ('GOOG', 911.71)]"
      ]
     },
     "metadata": {},
     "execution_count": 9
    }
   ],
   "source": [
    "price_list = [('AAPL',144.09),('GOOG',911.71),('MSFT',69),('FB',150),('WMT',75.32)]\n",
    "sorted(price_list, key = lambda x: x[1])"
   ]
  },
  {
   "source": [
    "By default the values are sorted by ascending order. We can change it to descending by adding an optional parameter \"reverse'."
   ],
   "cell_type": "markdown",
   "metadata": {}
  },
  {
   "cell_type": "code",
   "execution_count": 10,
   "metadata": {},
   "outputs": [
    {
     "output_type": "execute_result",
     "data": {
      "text/plain": [
       "[('GOOG', 911.71), ('FB', 150), ('AAPL', 144.09), ('WMT', 75.32), ('MSFT', 69)]"
      ]
     },
     "metadata": {},
     "execution_count": 10
    }
   ],
   "source": [
    "price_list = [('AAPL',144.09),('GOOG',911.71),('MSFT',69),('FB',150),('WMT',75.32)]\n",
    "sorted(price_list, key = lambda x: x[1],reverse = True)"
   ]
  },
  {
   "source": [
    "Lists also have a function ```list.sort()```. This function takes the same \"key\" and \"reverse\" arguments as ```sorted()```, but it doesn't return a new list."
   ],
   "cell_type": "markdown",
   "metadata": {}
  },
  {
   "cell_type": "code",
   "execution_count": 11,
   "metadata": {},
   "outputs": [
    {
     "output_type": "stream",
     "name": "stdout",
     "text": [
      "[('MSFT', 69), ('WMT', 75.32), ('AAPL', 144.09), ('FB', 150), ('GOOG', 911.71)]\n"
     ]
    }
   ],
   "source": [
    "price_list = [('AAPL',144.09),('GOOG',911.71),('MSFT',69),('FB',150),('WMT',75.32)]\n",
    "price_list.sort(key = lambda x: x[1])\n",
    "print(price_list)"
   ]
  },
  {
   "source": [
    "### Object-Oriented Programming\n",
    "\n",
    "Python is an object-oriented programming language. It's important to understand the concept of \"objects\" because almost every kind of data from QuantConnect API is an object.\n",
    "\n",
    "#### Class\n",
    "A class is a type of data, just like a string, float, or list. When we create an object of that data type, we call it an **instance** of a class.\n",
    "\n",
    "In Python, everything is an object - everything is an instance of some class. The data stored inside an object are called **attributes**, and the functions which are associated with the object are called **methods**.\n",
    "\n",
    "For example, as mentioned above, a list is an object of the \"list\" class, and it has a method ```list.sort()```.\n",
    "\n",
    "We can create our own objects by defining a class. We would do this when it's helpful to group certain functions together. For example, we define a class named \"Stock\" here:"
   ],
   "cell_type": "markdown",
   "metadata": {}
  },
  {
   "cell_type": "code",
   "execution_count": 12,
   "metadata": {},
   "outputs": [],
   "source": [
    "class stock:\n",
    "    def __init__(self, ticker, open, close, volume):\n",
    "        self.ticker = ticker\n",
    "        self.open = open\n",
    "        self.close = close\n",
    "        self.volume = volume\n",
    "        self.rate_return = float(close)/open - 1\n",
    " \n",
    "    def update(self, open, close):\n",
    "        self.open = open\n",
    "        self.close = close\n",
    "        self.rate_return = float(self.close)/self.open - 1\n",
    " \n",
    "    def print_return(self):\n",
    "        print(self.rate_return)"
   ]
  },
  {
   "source": [
    "The \"Stock\" class has attributes \"ticker\", \"open\", \"close\", \"volume\" and \"rate_return\". Inside the class body, the first method is called ```__init__```, which is a special method. When we create a new instance of the class, the ```__init__``` method is immediately executed with all the parameters that we pass to the \"Stock\" object. The purpose of this method is to set up a new \"Stock\" object using data we have provided.\n",
    "\n",
    "Here we create two Stock objects named \"apple\" and \"google\"."
   ],
   "cell_type": "markdown",
   "metadata": {}
  },
  {
   "cell_type": "code",
   "execution_count": 13,
   "metadata": {},
   "outputs": [],
   "source": [
    "apple = stock('AAPL', 143.69, 144.09, 20109375)\n",
    "google = stock('GOOG', 898.7, 911.7, 1561616)"
   ]
  },
  {
   "source": [
    "Stock objects also have two other methods: ```update()``` and ```print_return()```. We can access the attribues of a Stock object and call its methods:"
   ],
   "cell_type": "markdown",
   "metadata": {}
  },
  {
   "cell_type": "code",
   "execution_count": 14,
   "metadata": {},
   "outputs": [
    {
     "output_type": "stream",
     "name": "stdout",
     "text": [
      "0.014465338822744034\n0.0006573181419806673\n"
     ]
    }
   ],
   "source": [
    "apple.ticker\n",
    "google.print_return()\n",
    "google.update(912.8,913.4)\n",
    "google.print_return()"
   ]
  },
  {
   "source": [
    "By calling the ```update()``` function, we updated the open and close prices of a stock. Please note that when we use the attributes or call the methods **inside a class**, we need to specify them as ```self.attribute``` or ```self.method()```, otherwise Python will deem them as global variables and thus raise an error.\n",
    "\n",
    "We can add an attribute to an object anywhere:"
   ],
   "cell_type": "markdown",
   "metadata": {}
  },
  {
   "cell_type": "code",
   "execution_count": 15,
   "metadata": {},
   "outputs": [
    {
     "output_type": "execute_result",
     "data": {
      "text/plain": [
       "'Tim Cook'"
      ]
     },
     "metadata": {},
     "execution_count": 15
    }
   ],
   "source": [
    "apple.ceo = 'Tim Cook'\n",
    "apple.ceo"
   ]
  },
  {
   "source": [
    "We can check what names (i.e. attributes and methods) are defined on an object using the ```dir()``` function:"
   ],
   "cell_type": "markdown",
   "metadata": {}
  },
  {
   "cell_type": "code",
   "execution_count": 16,
   "metadata": {},
   "outputs": [
    {
     "output_type": "execute_result",
     "data": {
      "text/plain": [
       "['__class__',\n",
       " '__delattr__',\n",
       " '__dict__',\n",
       " '__dir__',\n",
       " '__doc__',\n",
       " '__eq__',\n",
       " '__format__',\n",
       " '__ge__',\n",
       " '__getattribute__',\n",
       " '__gt__',\n",
       " '__hash__',\n",
       " '__init__',\n",
       " '__init_subclass__',\n",
       " '__le__',\n",
       " '__lt__',\n",
       " '__module__',\n",
       " '__ne__',\n",
       " '__new__',\n",
       " '__reduce__',\n",
       " '__reduce_ex__',\n",
       " '__repr__',\n",
       " '__setattr__',\n",
       " '__sizeof__',\n",
       " '__str__',\n",
       " '__subclasshook__',\n",
       " '__weakref__',\n",
       " 'ceo',\n",
       " 'close',\n",
       " 'open',\n",
       " 'print_return',\n",
       " 'rate_return',\n",
       " 'ticker',\n",
       " 'update',\n",
       " 'volume']"
      ]
     },
     "metadata": {},
     "execution_count": 16
    }
   ],
   "source": [
    "dir(apple)"
   ]
  },
  {
   "source": [
    "#### Inheritance\n",
    "\n",
    "Inheritance is a way of arranging classes in a hierarchy from the most general to the most specific. A \"child\" class is a more specific type of a \"parent\" class because a child class will inherit all the attribues and methods of its parent. For example, we define a class named \"Child\" which inherits \"Stock\":"
   ],
   "cell_type": "markdown",
   "metadata": {}
  },
  {
   "cell_type": "code",
   "execution_count": 17,
   "metadata": {},
   "outputs": [],
   "source": [
    "class child(stock):\n",
    "    def __init__(self,name):\n",
    "        self.name = name"
   ]
  },
  {
   "source": [
    "Then we create an object:"
   ],
   "cell_type": "markdown",
   "metadata": {}
  },
  {
   "cell_type": "code",
   "execution_count": 18,
   "metadata": {},
   "outputs": [
    {
     "output_type": "stream",
     "name": "stdout",
     "text": [
      "aa\n100\n102\n0.020000000000000018\nNone\n"
     ]
    }
   ],
   "source": [
    "aa = child('aa')\n",
    "print(aa.name)\n",
    "aa.update(100,102)\n",
    "print(aa.open)\n",
    "print(aa.close)\n",
    "print(aa.print_return())"
   ]
  },
  {
   "source": [
    "As seen above, the new class Child has inherited the methods from Stock."
   ],
   "cell_type": "markdown",
   "metadata": {}
  },
  {
   "source": [
    "### Summary\n",
    "\n",
    "In this chapter we have introduced functions and classes. When we write a QuantConnect algorithm, we would define our algorithm as a class (QCAlgorithm). This means our algorithm inherited the QC API methods from QCAlgorithm class.\n",
    "\n",
    "In the next chapter, we will introduce NumPy and Pandas, which enable us to conduct scientific calculations in Python."
   ],
   "cell_type": "markdown",
   "metadata": {}
  },
  {
   "source": [
    "Transcription made by **Gabriel Andres Anzola Tachak**"
   ],
   "cell_type": "markdown",
   "metadata": {}
  }
 ],
 "metadata": {
  "kernelspec": {
   "name": "python392jvsc74a57bd0ac59ebe37160ed0dfa835113d9b8498d9f09ceb179beaac4002f036b9467c963",
   "display_name": "Python 3.9.2 64-bit"
  },
  "language_info": {
   "codemirror_mode": {
    "name": "ipython",
    "version": 3
   },
   "file_extension": ".py",
   "mimetype": "text/x-python",
   "name": "python",
   "nbconvert_exporter": "python",
   "pygments_lexer": "ipython3",
   "version": "3.9.2"
  },
  "metadata": {
   "interpreter": {
    "hash": "ac59ebe37160ed0dfa835113d9b8498d9f09ceb179beaac4002f036b9467c963"
   }
  }
 },
 "nbformat": 4,
 "nbformat_minor": 2
}