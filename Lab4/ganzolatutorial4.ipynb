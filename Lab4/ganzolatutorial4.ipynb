{
 "cells": [
  {
   "source": [
    "# Introduction to Financial Python\n",
    "## NumPy and Basic Pandas"
   ],
   "cell_type": "markdown",
   "metadata": {}
  },
  {
   "source": [
    "### Introduction\n",
    "\n",
    "Now that we have introduced the fundamentals of Python, it's time to learn about NumPy and Pandas."
   ],
   "cell_type": "markdown",
   "metadata": {}
  },
  {
   "source": [
    "### NumPy\n",
    "\n",
    "NumPy is the core library for scientific computing in Python. It provides a high-performance multidimensional array object, and tools for working with these arrays. It also has strong integration with Pandas, which is another powerful tool for manipulating financial data.\n",
    "\n",
    "Python packages like NumPy and Pandas contain classes and methods which we can use by importing the package:"
   ],
   "cell_type": "markdown",
   "metadata": {}
  },
  {
   "cell_type": "code",
   "execution_count": 1,
   "metadata": {},
   "outputs": [],
   "source": [
    "import numpy as np"
   ]
  },
  {
   "source": [
    "#### Basic NumPy Arrays\n",
    "\n",
    "A NumPy array is a grid of values, all of the same type, and is indexed by a tuple of nonnegative integers. Here we make an array by passing a list of Apple stock prices:"
   ],
   "cell_type": "markdown",
   "metadata": {}
  },
  {
   "cell_type": "code",
   "execution_count": 2,
   "metadata": {},
   "outputs": [
    {
     "output_type": "stream",
     "name": "stdout",
     "text": [
      "[143.73 145.83 143.68 144.02 143.5  142.62] <class 'numpy.ndarray'>\n"
     ]
    }
   ],
   "source": [
    "price_list = [143.73, 145.83, 143.68, 144.02, 143.5, 142.62]\n",
    "price_array = np.array(price_list)\n",
    "print(price_array, type(price_array))"
   ]
  },
  {
   "source": [
    "Notice that the type of array is \"ndarray\" which is a multi-dimensional array. If we pass np.array() a list of lists, it will create a 2-dimensional array."
   ],
   "cell_type": "markdown",
   "metadata": {}
  },
  {
   "cell_type": "code",
   "execution_count": 3,
   "metadata": {},
   "outputs": [
    {
     "output_type": "stream",
     "name": "stdout",
     "text": [
      "[[1 3]\n [2 4]] <class 'numpy.ndarray'>\n"
     ]
    }
   ],
   "source": [
    "Ar = np.array([[1,3],[2,4]])\n",
    "print(Ar, type(Ar))"
   ]
  },
  {
   "source": [
    "We get the dimensions of an ndarray using the .shape attribute:"
   ],
   "cell_type": "markdown",
   "metadata": {}
  },
  {
   "cell_type": "code",
   "execution_count": 4,
   "metadata": {},
   "outputs": [
    {
     "output_type": "stream",
     "name": "stdout",
     "text": [
      "(2, 2)\n"
     ]
    }
   ],
   "source": [
    "print(Ar.shape)"
   ]
  },
  {
   "source": [
    "If we create an 2-dimensional array (i.e. matrix), each row can be accessed by index:"
   ],
   "cell_type": "markdown",
   "metadata": {}
  },
  {
   "cell_type": "code",
   "execution_count": 5,
   "metadata": {},
   "outputs": [
    {
     "output_type": "stream",
     "name": "stdout",
     "text": [
      "[1 3]\n[2 4]\n"
     ]
    }
   ],
   "source": [
    "print(Ar[0])\n",
    "print(Ar[1])"
   ]
  },
  {
   "source": [
    "If we want to access the matrix by column instead:"
   ],
   "cell_type": "markdown",
   "metadata": {}
  },
  {
   "cell_type": "code",
   "execution_count": 6,
   "metadata": {},
   "outputs": [
    {
     "output_type": "stream",
     "name": "stdout",
     "text": [
      "the first column:  [1 2]\nthe second column:  [3 4]\n"
     ]
    }
   ],
   "source": [
    "print('the first column: ', Ar[:,0])\n",
    "print('the second column: ', Ar[:,1])"
   ]
  },
  {
   "source": [
    "#### Array Functions\n",
    "\n",
    "Some functions built in NumPy that allow us to perform calculations on arrays. For example, we can apply the natural logarithm to each element of an array:"
   ],
   "cell_type": "markdown",
   "metadata": {}
  },
  {
   "cell_type": "code",
   "execution_count": 7,
   "metadata": {},
   "outputs": [
    {
     "output_type": "stream",
     "name": "stdout",
     "text": [
      "[4.96793654 4.98244156 4.9675886  4.96995218 4.96633504 4.96018375]\n"
     ]
    }
   ],
   "source": [
    "print(np.log(price_array))"
   ]
  },
  {
   "source": [
    "Other functions return a single value:"
   ],
   "cell_type": "markdown",
   "metadata": {}
  },
  {
   "cell_type": "code",
   "execution_count": 8,
   "metadata": {},
   "outputs": [
    {
     "output_type": "stream",
     "name": "stdout",
     "text": [
      "143.89666666666668\n",
      "0.9673790478515796\n",
      "863.38\n",
      "145.83\n"
     ]
    }
   ],
   "source": [
    "print(np.mean(price_array))\n",
    "print(np.std(price_array))\n",
    "print(np.sum(price_array))\n",
    "print(np.max(price_array))"
   ]
  },
  {
   "source": [
    "The functions above return the mean, standard deviation, total and maximum value of an array."
   ],
   "cell_type": "markdown",
   "metadata": {}
  },
  {
   "source": [
    "### Pandas\n",
    "\n",
    "Pandas is one of the most powerful tools for dealing with financial data. First we need to import Pandas:"
   ],
   "cell_type": "markdown",
   "metadata": {}
  },
  {
   "cell_type": "code",
   "execution_count": 9,
   "metadata": {},
   "outputs": [],
   "source": [
    "import pandas as pd"
   ]
  },
  {
   "source": [
    "#### Series\n",
    "\n",
    "Series is a one-dimensional labeled array capable of holding any data type (integers, strings, float, Python object, etc.)\n",
    "\n",
    "We create a Series by calling pd.Series(data), where data can be a dictionary, an array or just a scalar value."
   ],
   "cell_type": "markdown",
   "metadata": {}
  },
  {
   "cell_type": "code",
   "execution_count": 10,
   "metadata": {},
   "outputs": [
    {
     "output_type": "execute_result",
     "data": {
      "text/plain": [
       "0    143.73\n",
       "1    145.83\n",
       "2    143.68\n",
       "3    144.02\n",
       "4    143.50\n",
       "5    142.62\n",
       "dtype: float64"
      ]
     },
     "metadata": {},
     "execution_count": 10
    }
   ],
   "source": [
    "price = [143.73, 145.83, 143.68, 144.02, 143.5, 142.62]\n",
    "s = pd.Series(price)\n",
    "s"
   ]
  },
  {
   "source": [
    "We can customize the indices of a new Series:"
   ],
   "cell_type": "markdown",
   "metadata": {}
  },
  {
   "cell_type": "code",
   "execution_count": 11,
   "metadata": {},
   "outputs": [
    {
     "output_type": "execute_result",
     "data": {
      "text/plain": [
       "a    143.73\n",
       "b    145.83\n",
       "c    143.68\n",
       "d    144.02\n",
       "e    143.50\n",
       "f    142.62\n",
       "dtype: float64"
      ]
     },
     "metadata": {},
     "execution_count": 11
    }
   ],
   "source": [
    "s = pd.Series(price,index = ['a','b','c','d','e','f'])\n",
    "s"
   ]
  },
  {
   "source": [
    "Or we can change the indices of an existing Series:"
   ],
   "cell_type": "markdown",
   "metadata": {}
  },
  {
   "cell_type": "code",
   "execution_count": 12,
   "metadata": {},
   "outputs": [
    {
     "output_type": "execute_result",
     "data": {
      "text/plain": [
       "6    143.73\n",
       "5    145.83\n",
       "4    143.68\n",
       "3    144.02\n",
       "2    143.50\n",
       "1    142.62\n",
       "dtype: float64"
      ]
     },
     "metadata": {},
     "execution_count": 12
    }
   ],
   "source": [
    "s.index = [6,5,4,3,2,1]\n",
    "s"
   ]
  },
  {
   "source": [
    "Series is like a list since it can be sliced by index:"
   ],
   "cell_type": "markdown",
   "metadata": {}
  },
  {
   "cell_type": "code",
   "execution_count": 13,
   "metadata": {},
   "outputs": [
    {
     "output_type": "stream",
     "name": "stdout",
     "text": [
      "5    145.83\n4    143.68\n3    144.02\n2    143.50\n1    142.62\ndtype: float64\n6    143.73\n5    145.83\n4    143.68\n3    144.02\ndtype: float64\n"
     ]
    }
   ],
   "source": [
    "print(s[1:])\n",
    "print(s[:-2])"
   ]
  },
  {
   "source": [
    "Series is also like a dictionary whose values can be set or fetched by index label:"
   ],
   "cell_type": "markdown",
   "metadata": {}
  },
  {
   "cell_type": "code",
   "execution_count": 14,
   "metadata": {},
   "outputs": [
    {
     "output_type": "stream",
     "name": "stdout",
     "text": [
      "143.68\n6    143.73\n5    145.83\n4      0.00\n3    144.02\n2    143.50\n1    142.62\ndtype: float64\n"
     ]
    }
   ],
   "source": [
    "print(s[4])\n",
    "s[4] = 0\n",
    "print(s)"
   ]
  },
  {
   "source": [
    "Series can also have a name attribute, which will be used when we make up a Pandas DataFrame using several series."
   ],
   "cell_type": "markdown",
   "metadata": {}
  },
  {
   "cell_type": "code",
   "execution_count": 15,
   "metadata": {},
   "outputs": [
    {
     "output_type": "stream",
     "name": "stdout",
     "text": [
      "0    143.73\n1    145.83\n2    143.68\n3    144.02\n4    143.50\n5    142.62\nName: Apple Price List, dtype: float64\nApple Price List\n"
     ]
    }
   ],
   "source": [
    "s = pd.Series(price, name = 'Apple Price List')\n",
    "print(s)\n",
    "print(s.name)"
   ]
  },
  {
   "source": [
    "We can get the statistical summaries of a Series:"
   ],
   "cell_type": "markdown",
   "metadata": {}
  },
  {
   "cell_type": "code",
   "execution_count": 16,
   "metadata": {},
   "outputs": [
    {
     "output_type": "stream",
     "name": "stdout",
     "text": [
      "count      6.000000\nmean     143.896667\nstd        1.059711\nmin      142.620000\n25%      143.545000\n50%      143.705000\n75%      143.947500\nmax      145.830000\nName: Apple Price List, dtype: float64\n"
     ]
    }
   ],
   "source": [
    "print (s.describe())"
   ]
  },
  {
   "source": [
    "#### Time Index\n",
    "\n",
    "Pandas has a built-in function specifically for creating date indices: pd.date_range(). We use it to create a new index for our Series:"
   ],
   "cell_type": "markdown",
   "metadata": {}
  },
  {
   "cell_type": "code",
   "execution_count": 17,
   "metadata": {},
   "outputs": [
    {
     "output_type": "stream",
     "name": "stdout",
     "text": [
      "DatetimeIndex(['2017-01-01', '2017-01-02', '2017-01-03', '2017-01-04',\n               '2017-01-05', '2017-01-06'],\n              dtype='datetime64[ns]', freq='D')\n2017-01-01    143.73\n2017-01-02    145.83\n2017-01-03    143.68\n2017-01-04    144.02\n2017-01-05    143.50\n2017-01-06    142.62\nFreq: D, Name: Apple Price List, dtype: float64\n"
     ]
    }
   ],
   "source": [
    "time_index = pd.date_range('2017-01-01',periods = len(s),freq = 'D')\n",
    "print(time_index)\n",
    "s.index = time_index\n",
    "print(s)"
   ]
  },
  {
   "source": [
    "Series are usually accessed using the ```iloc[]``` and ```loc[]``` methods. ```iloc[]``` is used to access elements by integer index, and ```loc[]``` is used to access the index of the series.\n",
    "\n",
    "```iloc[]``` is necessary when the index of a series are integers, take our previous defined series as example:"
   ],
   "cell_type": "markdown",
   "metadata": {}
  },
  {
   "cell_type": "code",
   "execution_count": 18,
   "metadata": {},
   "outputs": [
    {
     "output_type": "stream",
     "name": "stdout",
     "text": [
      "6    143.73\n5    145.83\n4    143.68\n3    144.02\n2    143.50\n1    142.62\nName: Apple Price List, dtype: float64\n142.62\n"
     ]
    }
   ],
   "source": [
    "s.index = [6,5,4,3,2,1]\n",
    "print(s)\n",
    "print(s[1])"
   ]
  },
  {
   "source": [
    "If we intended to take the second element of the series, we would make a mistake here, because the index are integers. In order to access to the element we want, we use ```iloc[]``` here:"
   ],
   "cell_type": "markdown",
   "metadata": {}
  },
  {
   "cell_type": "code",
   "execution_count": 19,
   "metadata": {},
   "outputs": [
    {
     "output_type": "stream",
     "name": "stdout",
     "text": [
      "145.83\n"
     ]
    }
   ],
   "source": [
    "print(s.iloc[1])"
   ]
  },
  {
   "source": [
    "While working with time series data, we often use time as the index. Pandas provides us with various methods to access the data by time index."
   ],
   "cell_type": "markdown",
   "metadata": {}
  },
  {
   "cell_type": "code",
   "execution_count": 20,
   "metadata": {},
   "outputs": [
    {
     "output_type": "stream",
     "name": "stdout",
     "text": [
      "143.68\n"
     ]
    }
   ],
   "source": [
    "s.index = time_index\n",
    "print(s['2017-01-03'])"
   ]
  },
  {
   "source": [
    "We can even access to a range of dates:"
   ],
   "cell_type": "markdown",
   "metadata": {}
  },
  {
   "cell_type": "code",
   "execution_count": 21,
   "metadata": {},
   "outputs": [
    {
     "output_type": "stream",
     "name": "stdout",
     "text": [
      "2017-01-02    145.83\n",
      "2017-01-03    143.68\n",
      "2017-01-04    144.02\n",
      "2017-01-05    143.50\n",
      "Freq: D, Name: Apple Price List, dtype: float64\n"
     ]
    }
   ],
   "source": [
    "print(s['2017-01-02':'2017-01-05'])"
   ]
  },
  {
   "source": [
    "```Series[]``` provides us a very flexible way to index data. We can add any condition in the square brackets:"
   ],
   "cell_type": "markdown",
   "metadata": {}
  },
  {
   "cell_type": "code",
   "execution_count": 22,
   "metadata": {},
   "outputs": [
    {
     "output_type": "stream",
     "name": "stdout",
     "text": [
      "2017-01-01    143.73\n2017-01-03    143.68\n2017-01-05    143.50\n2017-01-06    142.62\nName: Apple Price List, dtype: float64\n[2017-01-01    False\n2017-01-02    False\n2017-01-03    False\n2017-01-04     True\n2017-01-05    False\n2017-01-06    False\nFreq: D, Name: Apple Price List, dtype: bool]\n"
     ]
    }
   ],
   "source": [
    "print(s[s < np.mean(s)] )\n",
    "print([(s > np.mean(s)) & (s < np.mean(s) + 1.64*np.std(s))])"
   ]
  },
  {
   "source": [
    "As demonstrated, we can use logical operators like ```&``` (and), ```|``` (or) and ```~``` (not) to group multiple conditions."
   ],
   "cell_type": "markdown",
   "metadata": {}
  },
  {
   "source": [
    "### Summary\n",
    "\n",
    "Here we have introduced NumPy and Pandas for scientific computing in Python. In the next chapter, we will dive into Pandas to learn resampling and manipulating Pandas DataFrame, which are commonly used in financial data analysis."
   ],
   "cell_type": "markdown",
   "metadata": {}
  },
  {
   "source": [
    "Transcription made by **Gabriel Andres Anzola Tachak**"
   ],
   "cell_type": "markdown",
   "metadata": {}
  }
 ],
 "metadata": {
  "kernelspec": {
   "name": "python392jvsc74a57bd0ac59ebe37160ed0dfa835113d9b8498d9f09ceb179beaac4002f036b9467c963",
   "display_name": "Python 3.9.2 64-bit"
  },
  "language_info": {
   "codemirror_mode": {
    "name": "ipython",
    "version": 3
   },
   "file_extension": ".py",
   "mimetype": "text/x-python",
   "name": "python",
   "nbconvert_exporter": "python",
   "pygments_lexer": "ipython3",
   "version": "3.9.2"
  },
  "metadata": {
   "interpreter": {
    "hash": "ac59ebe37160ed0dfa835113d9b8498d9f09ceb179beaac4002f036b9467c963"
   }
  }
 },
 "nbformat": 4,
 "nbformat_minor": 2
}