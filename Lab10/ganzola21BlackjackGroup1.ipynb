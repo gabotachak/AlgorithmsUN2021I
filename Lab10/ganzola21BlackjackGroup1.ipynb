{
  "nbformat": 4,
  "nbformat_minor": 0,
  "metadata": {
    "colab": {
      "name": "Lab10",
      "provenance": [],
      "collapsed_sections": []
    },
    "kernelspec": {
      "name": "python3",
      "display_name": "Python 3"
    },
    "language_info": {
      "name": "python"
    }
  },
  "cells": [
    {
      "cell_type": "markdown",
      "metadata": {
        "id": "jjMfsRZJf034"
      },
      "source": [
        "#Laboratorio 10 \n",
        "\n",
        "##Grupo 1:\n",
        "\n",
        "Amaya Osorio, Kevin Arturo\n",
        "\n",
        "Anzola Tachak, Gabriel Andres\n",
        "\n",
        "Arias Parra, David Alexander "
      ]
    },
    {
      "cell_type": "markdown",
      "metadata": {
        "id": "GWu5_Ajnf0KF"
      },
      "source": [
        "\n",
        "1. Estimate the probability of getting a 21, the average number of cards required to complete 21 and plot the experimental distribution of the number of card required to complete 21 drawing cards sequentially from a shuffled Spanish 48-card deck with card values [1,2,3,4,5,6,7,10,11,12,1,2,3,4,5,6,7,8,9,10,11,12,1,2,3,4,5,6,7,8,9,10,11,12,1,2,3,4,5,6,7,8,9,10,11,12] and from a shuffled Poker 52-card with card values [1,2,3,4,5,6,7,8,9,10,11,12,13,1,2,3,4,5,6,7,8,9,10,11,12,13,1,2,3,4,5,6,7,8,9,10,11,12,13,1,2,3,4,5,6,7,8,9,10,11,12,13] using Montecarlo with 10 millions simulations.\n",
        "\n",
        "    A n-card deck is shuffled if t all possible n! decks have equal probability 1/n! or equivalently if when choosing any card of the shuffled deck all n cards have the same probability 1/n of appearing.\n",
        "    Hint: Instead of shuffling the card deck an drawing sequentially it is equivalent to have a sorted list representing the cards and draw cards randomly located from that list with random.choice(list)."
      ]
    },
    {
      "cell_type": "code",
      "metadata": {
        "colab": {
          "base_uri": "https://localhost:8080/",
          "height": 863
        },
        "id": "RQo3EcihfyC0",
        "outputId": "474a46b9-474d-4889-9ffd-2e940a0b7e5c"
      },
      "source": [
        "import random\n",
        "import copy\n",
        "from numpy import zeros\n",
        "import matplotlib.pyplot as plt\n",
        "from matplotlib.ticker import MaxNLocator\n",
        "\n",
        "SPANISH_DECK = [1,2,3,4,5,6,7,10,11,12,1,2,3,4,5,6,7,8,9,10,11,12,1,2,3,4,5,6,7,8,9,10,11,12,1,2,3,4,5,6,7,8,9,10,11,12] \n",
        "POKER_DECK = [1,2,3,4,5,6,7,8,9,10,11,12,13,1,2,3,4,5,6,7,8,9,10,11,12,13,1,2,3,4,5,6,7,8,9,10,11,12,13,1,2,3,4,5,6,7,8,9,10,11,12,13]\n",
        "N_SIMULATION = 10000000\n",
        "\n",
        "def shuffleDeck(deck):\n",
        "  random.shuffle(deck)\n",
        "\n",
        "def getCardSum(deck, currentCardSum=0, remainingCards=0):\n",
        "  cardsPicked = []\n",
        "  shuffleDeck(deck)\n",
        "  cardSum = currentCardSum\n",
        "  if remainingCards!=0:\n",
        "    remainingCards = int(remainingCards)\n",
        "    cardsPicked = deck[:remainingCards]\n",
        "    deck = deck[remainingCards:]\n",
        "  while cardSum < 21:\n",
        "    randomCard = random.choice(deck)\n",
        "    index = random.choice(range(len(deck)))\n",
        "    cardSum = cardSum + deck[index]\n",
        "    cardsPicked.append(deck.pop(index))\n",
        "  deck.extend(cardsPicked)\n",
        "  return [cardSum, len(cardsPicked)]\n",
        "\n",
        "def setPercentage(n,cardsOccurrences):\n",
        "  for i in range(0,len(cardsOccurrences)):\n",
        "    cardsOccurrences[i] = (cardsOccurrences[i]/n) * 100\n",
        "  return cardsOccurrences\n",
        "\n",
        "def AverageCards(cardsOccurrences):\n",
        "  total = 0\n",
        "  ocurrences = 0\n",
        "  for index, cardsOccurrence in enumerate(cardsOccurrences):\n",
        "    if cardsOccurrence != 0 :\n",
        "      total += (index)*cardsOccurrence\n",
        "      ocurrences += cardsOccurrence\n",
        "  if ocurrences>0:\n",
        "    return total/ocurrences\n",
        "  return 0 \n",
        "\n",
        "def increaseOccurrences(cardSum, occurrences, cardsPicked, cardsOccurrences):\n",
        "  if cardSum == 21:\n",
        "    cardsOccurrences[cardsPicked] = cardsOccurrences[cardsPicked]+1\n",
        "    occurrences = occurrences+1\n",
        "  return occurrences\n",
        "\n",
        "def Montecarlo(n, deck, currentCardSum=0, remainingCards=0):\n",
        "  occurrences = 0\n",
        "  remainingCards = int(remainingCards)\n",
        "  cardsOccurrences = zeros(len(deck))\n",
        "  for i in range(0,n):\n",
        "    cardSum, cardsPicked = getCardSum(deck, currentCardSum, remainingCards)\n",
        "    occurrences = increaseOccurrences(cardSum, occurrences, cardsPicked, cardsOccurrences)\n",
        "  totalOccurrencesPercent =  occurrences/n * 100\n",
        "  cardsOccurrencesPercentage = setPercentage(n,cardsOccurrences)\n",
        "  return [cardsOccurrencesPercentage,totalOccurrencesPercent,cardsOccurrences]\n",
        "\n",
        "def deleteZeros(cardsOccurrences):\n",
        "  return list(filter(lambda num: num != 0, cardsOccurrences))\n",
        "\n",
        "def drawOccurrences(cardsOccurrences):\n",
        "  fig = plt.figure()\n",
        "  ax = fig.add_axes([0,0,1,1])\n",
        "  ax.xaxis.set_major_locator(MaxNLocator(integer=True))\n",
        "  cardsOccurrences = deleteZeros(cardsOccurrences)\n",
        "  langs = list(range(1, len(cardsOccurrences)+1))\n",
        "  ax.bar(langs, cardsOccurrences)\n",
        "  ax.set_title('Experimental distribution of the number of card required to get a 21 ')\n",
        "  ax.set_xlabel('Cards Drawn')\n",
        "  ax.set_ylabel('Probability of getting 21')\n",
        "  plt.show()\n",
        "\n",
        "def printResults(cardsOccurrencesPercentage, totalOcurrencesPercent, cardsOccurrences, deckTitle):\n",
        "  print(deckTitle)\n",
        "  print(\"Probability of getting a 21: %s\" % (totalOcurrencesPercent))\n",
        "  print(\"Average cards to get 21: %s\" % (AverageCards(cardsOccurrences)))\n",
        "  drawOccurrences(cardsOccurrencesPercentage)\n",
        "  print(\"------------------------------------------------------------------------\")\n",
        "\n",
        "cardsOccurrencesPercentage, totalOcurrencesPercent, cardsOccurrences = Montecarlo(N_SIMULATION, SPANISH_DECK)\n",
        "printResults (cardsOccurrences, totalOcurrencesPercent, cardsOccurrences, \"Spanish Deck: \")\n",
        "\n",
        "cardsOccurrencesPercentage, totalOcurrencesPercent, cardsOccurrences = Montecarlo(N_SIMULATION, POKER_DECK)\n",
        "printResults (cardsOccurrencesPercentage, totalOcurrencesPercent, cardsOccurrences, \"Poker Deck: \")"
      ],
      "execution_count": 35,
      "outputs": [
        {
          "output_type": "stream",
          "text": [
            "Spanish Deck: \n",
            "Probability of getting a 21: 15.863\n",
            "Average cards to get 21: 3.4776139443989162\n"
          ],
          "name": "stdout"
        },
        {
          "output_type": "display_data",
          "data": {
            "image/png": "[encoded data removed]",
            "text/plain": [
              "<Figure size 432x288 with 1 Axes>"
            ]
          },
          "metadata": {
            "tags": [],
            "needs_background": "light"
          }
        },
        {
          "output_type": "stream",
          "text": [
            "------------------------------------------------------------------------\n",
            "Poker Deck: \n",
            "Probability of getting a 21: 14.4895\n",
            "Average cards to get 21: 3.215919113841058\n"
          ],
          "name": "stdout"
        },
        {
          "output_type": "display_data",
          "data": {
            "image/png": "[encoded data removed]",
            "text/plain": [
              "<Figure size 432x288 with 1 Axes>"
            ]
          },
          "metadata": {
            "tags": [],
            "needs_background": "light"
          }
        },
        {
          "output_type": "stream",
          "text": [
            "------------------------------------------------------------------------\n"
          ],
          "name": "stdout"
        }
      ]
    },
    {
      "cell_type": "markdown",
      "metadata": {
        "id": "uaRKPRejH-sY"
      },
      "source": [
        "2. Estimate the probability of getting a 21, the average number of cards required to complete 21 and plot the experimental distribution of the number of card required to complete 21 drawing cards sequentially from a shuffled Spanish 48-card deck with card values [1,2,3,4,5,6,7,10,10,10,1,2,3,4,5,6,7,8,9,10,10 10,1,2,3,4,5,6,7,8,9,10,10,10,1,2,3,4,5,6,7,8,9,10,10,10] and from a shuffled Poker 52-card deck with card values [1,2,3,4,5,6,7,8,9,10,11,12,13,1,2,3,4,5,6 7,8,9,10,10,10,10,1,2,3,4,5,6,7,8,9,10,10,10,10,1,2,3,4,5,6,7,8,9,10,10,10,10]using Montecarlo with 10 millions simulations."
      ]
    },
    {
      "cell_type": "code",
      "metadata": {
        "id": "waoOgLgT91cl",
        "colab": {
          "base_uri": "https://localhost:8080/",
          "height": 862
        },
        "outputId": "fcea5c9c-ba2c-447f-c447-b3367e544e52"
      },
      "source": [
        "SPANISH_DECK_48 = [1,2,3,4,5,6,7,10,10,10,1,2,3,4,5,6,7,8,9,10,10,10,1,2,3,4,5,6,7,8,9,10,10,10,1,2,3,4,5,6,7,8,9,10,10,10]\n",
        "POKER_DECK_52 = [1,2,3,4,5,6,7,8,9,10,11,12,13,1,2,3,4,5,6,7,8,9,10,10,10,10,1,2,3,4,5,6,7,8,9,10,10,10,10,1,2,3,4,5,6,7,8,9,10,10,10,10]\n",
        "\n",
        "cardsOccurrencesPercentage, totalOcurrencesPercent, cardsOccurrences = Montecarlo(N_SIMULATION, SPANISH_DECK)\n",
        "printResults (cardsOccurrences, totalOcurrencesPercent, cardsOccurrences, \"Spanish Deck 48: \")\n",
        "\n",
        "cardsOccurrencesPercentage, totalOcurrencesPercent, cardsOccurrences = Montecarlo(N_SIMULATION, POKER_DECK)\n",
        "printResults (cardsOccurrencesPercentage, totalOcurrencesPercent, cardsOccurrences, \"Poker Deck 52: \")\n"
      ],
      "execution_count": null,
      "outputs": [
        {
          "output_type": "stream",
          "text": [
            "Spanish Deck 48: \n",
            "Probability of getting a 21: 15.8664\n",
            "Average cards to get 21: 3.477367896939444\n"
          ],
          "name": "stdout"
        },
        {
          "output_type": "display_data",
          "data": {
            "image/png": "[encoded data removed]",
            "text/plain": [
              "<Figure size 432x288 with 1 Axes>"
            ]
          },
          "metadata": {
            "tags": [],
            "needs_background": "light"
          }
        },
        {
          "output_type": "stream",
          "text": [
            "------------------------------------------------------------------------\n",
            "Poker Deck 52: \n",
            "Probability of getting a 21: 14.47643\n",
            "Average cards to get 21: 3.2154716321634553\n"
          ],
          "name": "stdout"
        },
        {
          "output_type": "display_data",
          "data": {
            "image/png": "[encoded data removed]",
            "text/plain": [
              "<Figure size 432x288 with 1 Axes>"
            ]
          },
          "metadata": {
            "tags": [],
            "needs_background": "light"
          }
        },
        {
          "output_type": "stream",
          "text": [
            "------------------------------------------------------------------------\n"
          ],
          "name": "stdout"
        }
      ]
    },
    {
      "cell_type": "markdown",
      "metadata": {
        "id": "aUb5vcM5JQSb"
      },
      "source": [
        "3. Estimate the probability of getting a 21, the average total number of cards required to complete 21 and lot the experimental distribution of the number of card required to complete 21; assuming that you have in your hand the cards [7,7,5] and the remaining deck has n/2 cards for the regular Spanish 48-card deck and the Poker 52-card decks. You can pick the n/2 cards in the remaining deck in whatever way you choose but with restriction that this has maximum two 7s and three 5, you have to keep the remaining deck fixed through the Montecarlo simulations, use 10 million simulations."
      ]
    },
    {
      "cell_type": "code",
      "metadata": {
        "id": "f_FswoYz8RlK",
        "colab": {
          "base_uri": "https://localhost:8080/",
          "height": 863
        },
        "outputId": "36bb6c0c-2092-4a93-d61a-114ddea115cd"
      },
      "source": [
        "SPANISH_DECK_WITHOUT_775 = [1,2,3,4,6,10,10,10,1,2,3,4,6,7,8,9,10,10,10,1,2,3,4,5,6,7,8,9,10,10,10,1,2,3,4,5,6,7,8,9,10,10,10]\n",
        "POKER_DECK_WITHOUT_775 = [1,2,3,4,5,6,7,8,9,10,11,12,13,1,2,3,4,5,6,7,8,9,10,10,10,10,1,2,3,4,6,8,9,10,10,10,10,1,2,3,4,5,6,8,9,10,10,10,10]\n",
        "\n",
        "\n",
        "cardsOccurrencesPercentage, totalOcurrencesPercent, cardsOccurrences = Montecarlo(N_SIMULATION, SPANISH_DECK_WITHOUT_775, currentCardSum = 19, remainingCards = len(SPANISH_DECK_48)/2)\n",
        "printResults (cardsOccurrences, totalOcurrencesPercent, cardsOccurrences, \"Spanish Deck 48: \")\n",
        "\n",
        "cardsOccurrencesPercentage, totalOcurrencesPercent, cardsOccurrences = Montecarlo(N_SIMULATION, POKER_DECK_WITHOUT_775, currentCardSum = 19, remainingCards = len(POKER_DECK_52)/2)\n",
        "printResults (cardsOccurrences, totalOcurrencesPercent, cardsOccurrences, \"Spanish Deck 48: \")"
      ],
      "execution_count": 47,
      "outputs": [
        {
          "output_type": "stream",
          "text": [
            "Spanish Deck 48: \n",
            "Probability of getting a 21: 9.981869999999999\n",
            "Average cards to get 21: 24.067059579016757\n"
          ],
          "name": "stdout"
        },
        {
          "output_type": "display_data",
          "data": {
            "image/png": "[encoded data removed]",
            "text/plain": [
              "<Figure size 432x288 with 1 Axes>"
            ]
          },
          "metadata": {
            "tags": [],
            "needs_background": "light"
          }
        },
        {
          "output_type": "stream",
          "text": [
            "------------------------------------------------------------------------\n",
            "Spanish Deck 48: \n",
            "Probability of getting a 21: 8.68109\n",
            "Average cards to get 21: 27.058554858894446\n"
          ],
          "name": "stdout"
        },
        {
          "output_type": "display_data",
          "data": {
            "image/png": "[encoded data removed]",
            "text/plain": [
              "<Figure size 432x288 with 1 Axes>"
            ]
          },
          "metadata": {
            "tags": [],
            "needs_background": "light"
          }
        },
        {
          "output_type": "stream",
          "text": [
            "------------------------------------------------------------------------\n"
          ],
          "name": "stdout"
        }
      ]
    },
    {
      "cell_type": "markdown",
      "metadata": {
        "id": "sSF0D0flR4Y0"
      },
      "source": [
        "4. Estimate and calculate analytically the probability of getting a 21, the average total number of cards required to complete 21 and the experimental distribution of the number of card required to complete 21; assuming that you have in your hand the cards [7,7,5] and the remaining deck has two possible sets of 8 cards for the regular Spanish 48-card deck and the Poker 52-card decks. The two possible remaining decks are a (hot deck) that contains four 1 cards and four 2 cards a (cold deck) with not 1 or 2 cards, for the estimations use Montecarlo with 10 million simulations."
      ]
    },
    {
      "cell_type": "markdown",
      "metadata": {
        "id": "Tfb75T7xViOa"
      },
      "source": [
        "##Calculate analytically the probability of getting 21\n",
        "\n",
        "Our hand is [7,7,5] so we got a 19 hand and that leaves us few possibilities to get 21, with either deck we need to draw [1,1] or [2].\n",
        "\n",
        "Since getting 21 is impossible on a Cold deck we only need to find out the probability of getting a hot deck AND drawing 21 on that deck, so:\n",
        "\n",
        "> P(Getting 21) = P(Getting hot deck AND Drawing 21 on a hot deck) = P(Getting a hot deck) * P(Drawing 21 on a hot deck) \n",
        "\n",
        "Since the probabiliy of getting a hot deck is not dependent on the probability of Drawing 21 on a hot deck. \n",
        "\n",
        "--------------------------------------------------------------------------------\n",
        "\n",
        "**P(Getting a hot deck):**\n",
        "\n",
        "Since the deck is either cold or hot, there are a total of: \n",
        "\n",
        "*   (48-3-8)!=37! Hot decks for a 48 Spanish Deck. (48 total cards - 3 we picked - 4 1 cards - 4 2 cards)  \n",
        "*   (52-3-8)=41! Hot decks for a 52 poker deck.\n",
        "\n",
        "And \n",
        "\n",
        "*   (48-3-8)!=37! Cold decks for a 48 Spanish Deck. (48 total cards - 3 we picked - 4 1 cards - 4 2 cards) \n",
        "*   (52-3-8)=41! Cold decks for a 52 poker deck.\n",
        "\n",
        "For a 48 Spanish Deck:\n",
        "\n",
        "> P(getting a hot deck)=37!/(37! + 37!) ~ 1/2\n",
        "\n",
        "For a 52 Poker Deck:\n",
        " \n",
        "> P(getting a hot deck)=41!/(41! + 41!) ~ 1/2\n",
        "\n",
        "Since there are as many cold decks as there are hot decks we get a 0.5 probability of getting either of them.\n",
        "\n",
        "--------------------------------------------------------------------------------\n",
        "\n",
        "**P(Drawing 21 on a hot deck):**\n",
        "\n",
        "We got two ways of getting a 21, we either must draw two ones or a single 2 hence: \n",
        "\n",
        "P(Drawing 21 on a hot deck) = P( Two ones draw ) + Pr( Single two draw )\n",
        "\n",
        "Due to them being non dependant events, hence:\n",
        "\n",
        "For a 48 Spanish deck\n",
        "*   P( Two ones draw ) = 4/37 * 3/36\n",
        "*   P( Single two draw ) = 4/37\n",
        "\n",
        "> The probabily of getting 21 on a Hot deck is: 13/111\n",
        "\n",
        "For a 52 Spanish deck\n",
        "*   P( Two ones draw ) = 4/41 * 3/40\n",
        "*   P( Single two draw ) = 4/41\n",
        "\n",
        "> The probabily of getting 21 on a Hot deck is: 43/410\n",
        "\n",
        "--------------------------------------------------------------------------------\n",
        "\n",
        "Finally we have that:\n",
        "\n",
        "**For a 48 Spanish deck:**\n",
        "\n",
        "> P(Drawing 21) = P(Getting a hot deck) * P(Drawing 21 on a hot deck)  = 1/2 * 13/111 = 13/222 ~ 0.059 \n",
        "\n",
        "**For a 52 Poker deck:**\n",
        "\n",
        "> P(Drawing 21) = P(Getting a hot deck) * P(Drawing 21 on a hot deck)  = 1/2 * 43/410 = 43/820 ~ 0.052\n"
      ]
    },
    {
      "cell_type": "markdown",
      "metadata": {
        "id": "OcAGN-ZD9zxh"
      },
      "source": [
        "##Estimate Using Montecarlo"
      ]
    },
    {
      "cell_type": "code",
      "metadata": {
        "id": "BK3U3c8nWOe0",
        "colab": {
          "base_uri": "https://localhost:8080/",
          "height": 863
        },
        "outputId": "3a607e4a-a9c8-4788-f41c-9b81a9ef5aa9"
      },
      "source": [
        "HOT_SPANISH_DECK_WITHOUT_775 = [1,1,1,1,2,2,2,2,4,6,10,10,10,3,4,6,8,9,10,10,10,3,4,6,8,9,10,10,10,3,4,5,6,7,8,9,10,10,10]\n",
        "COLD_POKER_DECK_WITHOUT_775 = [1,1,1,1,2,2,2,2,3,4,5,6,7,8,9,10,11,12,133,4,5,6,7,8,9,10,10,10,10,3,4,6,8,9,10,10,10,10,3,4,5,6,8,9,10,10,10,10]\n",
        "N_SIMULATION = 10000000\n",
        "\n",
        "def pickCards(deck, hotdeck):\n",
        "  chooseNumber = random.randint(1,len(deck))\n",
        "  cardsPicked = deck[:chooseNumber]\n",
        "  hotdeck.extend(cardsPicked)\n",
        "  return hotdeck\n",
        "\n",
        "def isCold():\n",
        "  hotColdRandom = random.uniform(0,1)\n",
        "  return hotColdRandom<0.5\n",
        "\n",
        "def hotColdMontecarlo(n, deck, currentCardSum, spanishDeck=True):\n",
        "  currentCardSum = int(currentCardSum)\n",
        "  cardsOccurrences = zeros(len(deck))\n",
        "  occurrences = 0\n",
        "  for i in range(0,n): \n",
        "    if isCold():\n",
        "      continue\n",
        "    if spanishDeck:\n",
        "      hotDeck = HOT_SPANISH_DECK_WITHOUT_775\n",
        "    else:\n",
        "      hotDeck = COLD_POKER_DECK_WITHOUT_775\n",
        "    cardSum, cardsPicked = getCardSum(hotDeck, currentCardSum)\n",
        "    occurrences = increaseOccurrences(cardSum, occurrences, cardsPicked, cardsOccurrences)\n",
        "  totalOccurrencesPercent =  occurrences/n * 100\n",
        "  cardsOccurrencesPercentage = setPercentage(n,cardsOccurrences)  \n",
        "  return [cardsOccurrencesPercentage,totalOccurrencesPercent,cardsOccurrences]\n",
        "\n",
        "cardsOccurrencesPercentage, totalOcurrencesPercent, cardsOccurrences = hotColdMontecarlo(N_SIMULATION, HOT_SPANISH_DECK_WITHOUT_775, currentCardSum = 19)\n",
        "printResults (cardsOccurrences, totalOcurrencesPercent, cardsOccurrences, \"Spanish Deck Hot/Cold 48: \")\n",
        "\n",
        "cardsOccurrencesPercentage, totalOcurrencesPercent, cardsOccurrences = hotColdMontecarlo(N_SIMULATION, COLD_POKER_DECK_WITHOUT_775, currentCardSum=19, spanishDeck=False)\n",
        "printResults (cardsOccurrences, totalOcurrencesPercent, cardsOccurrences, \"Poker Deck Hot/Cold 52: \")"
      ],
      "execution_count": 36,
      "outputs": [
        {
          "output_type": "stream",
          "text": [
            "Spanish Deck Hot/Cold 48: \n",
            "Probability of getting a 21: 5.52084\n",
            "Average cards to get 21: 1.0724128936900905\n"
          ],
          "name": "stdout"
        },
        {
          "output_type": "display_data",
          "data": {
            "image/png": "[encoded data removed]",
            "text/plain": [
              "<Figure size 432x288 with 1 Axes>"
            ]
          },
          "metadata": {
            "tags": [],
            "needs_background": "light"
          }
        },
        {
          "output_type": "stream",
          "text": [
            "------------------------------------------------------------------------\n",
            "Poker Deck Hot/Cold 52: \n",
            "Probability of getting a 21: 4.42932\n",
            "Average cards to get 21: 1.0598173083001454\n"
          ],
          "name": "stdout"
        },
        {
          "output_type": "display_data",
          "data": {
            "image/png": "[encoded data removed]",
            "text/plain": [
              "<Figure size 432x288 with 1 Axes>"
            ]
          },
          "metadata": {
            "tags": [],
            "needs_background": "light"
          }
        },
        {
          "output_type": "stream",
          "text": [
            "------------------------------------------------------------------------\n"
          ],
          "name": "stdout"
        }
      ]
    },
    {
      "cell_type": "markdown",
      "metadata": {
        "id": "0xHByGPCQyoe"
      },
      "source": [
        "5. Estimate the average amount of money (expected value) that Ben wins or losses on a weekend if Ben goes to Vegas every weekend (Friday, Saturday and Sunday), plays every weekend day 10 hours, each game takes 3 mins. Assume that for each game he gets two possibilities, in one he gets in his hand the cards [7,7,5] and a remaining hot deck with 8 cards in which case he bets \\$1000 this happens with probability 1/10; in the other one he gets no cards in his hand a complete shuffled deck in which case he bets $10, this happens with the remaining probability 9/10. Use 10000 Montecarlo simulations to estimated the expected amount of money that Ben wins or losses on a weekend for the Spanish 48-card deck and for a Poker 52-card deck."
      ]
    },
    {
      "cell_type": "code",
      "metadata": {
        "id": "X-7I0q4dQ-xY",
        "colab": {
          "base_uri": "https://localhost:8080/"
        },
        "outputId": "2991f4d6-b84a-4df0-ad64-c2663a662ef9"
      },
      "source": [
        "SPANISH_DECK_48 = [1,2,3,4,5,6,7,10,10,10,1,2,3,4,5,6,7,8,9,10,10,10,1,2,3,4,5,6,7,8,9,10,10,10,1,2,3,4,5,6,7,8,9,10,10,10]\n",
        "POKER_DECK_52 = [1,2,3,4,5,6,7,8,9,10,11,12,13,1,2,3,4,5,6,7,8,9,10,10,10,10,1,2,3,4,5,6,7,8,9,10,10,10,10,1,2,3,4,5,6,7,8,9,10,10,10,10]\n",
        "\n",
        "N_SIMULATIONS = 10000\n",
        "DAYS = 3\n",
        "HOURS_PER_DAY = 10\n",
        "MINUTES_PER_GAME = 3\n",
        "NUMBER_OF_GAMES = ((DAYS * HOURS_PER_DAY)*(60))/MINUTES_PER_GAME\n",
        "\n",
        "def has775Hand(): \n",
        "  hasHand = random.uniform(0,1)\n",
        "  return hasHand<0.1\n",
        "\n",
        "def bettingOn775Hand(spanishDeck):\n",
        "  BET = 1000\n",
        "  if spanishDeck:\n",
        "    deck = SPANISH_DECK_48\n",
        "  else:\n",
        "    deck = POKER_DECK_52\n",
        "  cardSum, cardsPicked = getCardSum(deck, currentCardSum=19)\n",
        "  if cardSum>21 :\n",
        "    return BET\n",
        "  return -BET\n",
        "\n",
        "def bettingOnNoHand(spanishDeck):\n",
        "  BET = 10\n",
        "  if spanishDeck:\n",
        "    deck = SPANISH_DECK_48\n",
        "  else:\n",
        "    deck = POKER_DECK_52\n",
        "  cardSum, cardsPicked = getCardSum(deck)\n",
        "  if cardSum>21 :\n",
        "    return BET\n",
        "  return -BET\n",
        "\n",
        "def montecarlo(numberGames, deck, spanishDeck=True):\n",
        "  earnings = 0\n",
        "  numberGames = int(numberGames)\n",
        "  for i in range(0,numberGames):\n",
        "    if has775Hand():\n",
        "      earnings += bettingOn775Hand(spanishDeck)\n",
        "      continue\n",
        "    earnings += bettingOnNoHand(spanishDeck)\n",
        "  return earnings\n",
        "\n",
        "print(\"Estimated earnings with Spanish Deck: %s\" %montecarlo(NUMBER_OF_GAMES, SPANISH_DECK_48))\n",
        "print(\"Estimated earnings with Poker Deck: %s\" %montecarlo(NUMBER_OF_GAMES, POKER_DECK_52, False))"
      ],
      "execution_count": 50,
      "outputs": [
        {
          "output_type": "stream",
          "text": [
            "Estimated earnings with Spanish Deck: 43400\n",
            "Estimated earnings with Poker Deck: 44810\n"
          ],
          "name": "stdout"
        }
      ]
    }
  ]
}